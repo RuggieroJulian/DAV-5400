{
 "cells": [
  {
   "cell_type": "markdown",
   "metadata": {},
   "source": [
    "### This function that will check the speed of the driver in km/h and provide some results based on the conditions below:\n",
    "- if speed < 70 return OK\n",
    "- if the speed > 70 will:\n",
    "         -- return number of demerit points based on 1 point per each 5km of exceed speed\n",
    "         if demerit_points exceeds 6 then will return 'license suspended'"
   ]
  },
  {
   "cell_type": "code",
   "execution_count": 8,
   "metadata": {
    "scrolled": true
   },
   "outputs": [
    {
     "data": {
      "text/plain": [
       "'OK'"
      ]
     },
     "execution_count": 8,
     "metadata": {},
     "output_type": "execute_result"
    }
   ],
   "source": [
    "def speed_control(km_h):\n",
    "    \"\"\"This function that will check the speed of the driver in km/h and provide some results based on the conditions below:\n",
    "     * if speed < 70 return OK\n",
    "     * if the speed > 70 will:\n",
    "         return number of demerit points based on 1 point per each 5km of exceed speed\n",
    "         if demerit_points exceeds 6 then will return 'license suspended'\n",
    "    \"\"\"\n",
    "    if km_h < 70:\n",
    "        return 'OK'\n",
    "    elif km_h > 70:\n",
    "        km_above = km_h - 70\n",
    "        demerit_point = int(km_above/5)\n",
    "        if demerit_point > 6:\n",
    "            return 'License Suspended'\n",
    "        else:\n",
    "            return demerit_point\n",
    "speed_control(60)\n",
    "    "
   ]
  },
  {
   "cell_type": "code",
   "execution_count": 9,
   "metadata": {},
   "outputs": [],
   "source": [
    "speed_control?"
   ]
  }
 ],
 "metadata": {
  "kernelspec": {
   "display_name": "Python 3",
   "language": "python",
   "name": "python3"
  },
  "language_info": {
   "codemirror_mode": {
    "name": "ipython",
    "version": 3
   },
   "file_extension": ".py",
   "mimetype": "text/x-python",
   "name": "python",
   "nbconvert_exporter": "python",
   "pygments_lexer": "ipython3",
   "version": "3.7.3"
  }
 },
 "nbformat": 4,
 "nbformat_minor": 2
}
