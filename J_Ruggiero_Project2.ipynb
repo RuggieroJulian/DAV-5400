{
 "cells": [
  {
   "cell_type": "markdown",
   "metadata": {},
   "source": [
    "## Project 2 - Ruggiero Julian\n",
    "\n",
    "### Part 1: Introduction\n",
    "\n",
    "I will work with a dataset containing information regarding pacients with some of them facing a heart desease while others don't.\n",
    "According to the World Health Organization, of the 56.9 million deaths worldwide in 2016 ischaemic heart disease and stroke are the world’s biggest killers, accounting for a combined 15.2 million deaths in 2016. These diseases have remained the leading causes of death globally in the last 15 years. \n",
    "\n",
    "Source: https://www.who.int/news-room/fact-sheets/detail/the-top-10-causes-of-death\n",
    "\n",
    "<img src=\"Data/Images/Top 10 global death causes.png\"\n",
    "/>\n",
    "\n",
    "\n",
    "\n",
    "To learn how to prevent heart disease we must first learn to reliably detect it and this project is focused on finding some relationships in the pacients that faced with this patology and understand better some relationships between its attributes."
   ]
  },
  {
   "cell_type": "code",
   "execution_count": null,
   "metadata": {},
   "outputs": [],
   "source": []
  },
  {
   "cell_type": "code",
   "execution_count": null,
   "metadata": {},
   "outputs": [],
   "source": []
  },
  {
   "cell_type": "markdown",
   "metadata": {},
   "source": [
    "### Part 2: Data Summary\n",
    "\n",
    "I aquire a dataset that is used in a machine learning competition where the purpose is to predict if a pacient will face or not a heart desease based on existing data. The link of the competition is below\n",
    "\n",
    "https://www.drivendata.org/competitions/54/machine-learning-with-a-heart/page/107/\n",
    "\n",
    "And the dataset information and data folder is in the following link:\n",
    "\n",
    "http://archive.ics.uci.edu/ml/datasets/statlog+(heart)\n",
    "\n",
    "\n",
    "The dataset contains 14 attributes, including the last field with a value related to the Absence (1) or presence (2) of heart disease. It contains 270 records or instances.\n",
    "\n",
    "#### Attribute Information:\n",
    "-----------------------------\n",
    "1. age\n",
    "2. sex\n",
    "3. chest pain type (4 values)\n",
    "4. resting blood pressure\n",
    "5. serum cholestoral in mg/dl\n",
    "6. fasting blood sugar > 120 mg/dl\n",
    "7. resting electrocardiographic results (values 0,1,2)\n",
    "8. maximum heart rate achieved\n",
    "9. exercise induced angina\n",
    "10. oldpeak = ST depression induced by exercise relative to rest (https://en.wikipedia.org/wiki/ST_depression). Refers to a finding on an electrocardiogram, wherein the trace in the ST segment is abnormally low below the baseline. It is often a sign of myocardial ischemia, of which coronary insufficiency is a major cause. Example in image below.\n",
    "![image.png](attachment:image.png)\n",
    "11. the slope of the peak exercise ST segment\n",
    "12. number of major vessels (0-3) colored by flourosopy\n",
    "13. thal: 3 = normal; 6 = fixed defect; 7 = reversable defect\n",
    "14. Absence (1) or presence (2) of heart disease\n",
    "\n",
    "For the purpose of this project I will provide an EDA and answer the following question based on the data provided\n",
    "\n",
    "### ¿What are the main reasons that impact a heart decease and do the reasons affect the same on man and women?"
   ]
  },
  {
   "cell_type": "code",
   "execution_count": null,
   "metadata": {},
   "outputs": [],
   "source": []
  },
  {
   "cell_type": "code",
   "execution_count": null,
   "metadata": {},
   "outputs": [],
   "source": []
  },
  {
   "cell_type": "code",
   "execution_count": null,
   "metadata": {},
   "outputs": [],
   "source": []
  },
  {
   "cell_type": "code",
   "execution_count": null,
   "metadata": {},
   "outputs": [],
   "source": []
  },
  {
   "cell_type": "code",
   "execution_count": null,
   "metadata": {},
   "outputs": [],
   "source": []
  },
  {
   "cell_type": "code",
   "execution_count": null,
   "metadata": {},
   "outputs": [],
   "source": []
  },
  {
   "cell_type": "code",
   "execution_count": null,
   "metadata": {},
   "outputs": [],
   "source": []
  },
  {
   "cell_type": "code",
   "execution_count": null,
   "metadata": {},
   "outputs": [],
   "source": []
  },
  {
   "cell_type": "markdown",
   "metadata": {},
   "source": []
  },
  {
   "cell_type": "code",
   "execution_count": 38,
   "metadata": {},
   "outputs": [],
   "source": [
    "import matplotlib.pyplot as plt\n",
    "import pandas as pd\n",
    "import seaborn as sns"
   ]
  },
  {
   "cell_type": "markdown",
   "metadata": {},
   "source": [
    "%matplotlib inline"
   ]
  },
  {
   "cell_type": "code",
   "execution_count": 75,
   "metadata": {},
   "outputs": [
    {
     "data": {
      "text/html": [
       "<div>\n",
       "<style scoped>\n",
       "    .dataframe tbody tr th:only-of-type {\n",
       "        vertical-align: middle;\n",
       "    }\n",
       "\n",
       "    .dataframe tbody tr th {\n",
       "        vertical-align: top;\n",
       "    }\n",
       "\n",
       "    .dataframe thead th {\n",
       "        text-align: right;\n",
       "    }\n",
       "</style>\n",
       "<table border=\"1\" class=\"dataframe\">\n",
       "  <thead>\n",
       "    <tr style=\"text-align: right;\">\n",
       "      <th></th>\n",
       "      <th>0</th>\n",
       "      <th>1</th>\n",
       "      <th>2</th>\n",
       "      <th>3</th>\n",
       "      <th>4</th>\n",
       "      <th>5</th>\n",
       "      <th>6</th>\n",
       "      <th>7</th>\n",
       "      <th>8</th>\n",
       "      <th>9</th>\n",
       "      <th>10</th>\n",
       "      <th>11</th>\n",
       "      <th>12</th>\n",
       "      <th>13</th>\n",
       "    </tr>\n",
       "  </thead>\n",
       "  <tbody>\n",
       "    <tr>\n",
       "      <th>0</th>\n",
       "      <td>70.0</td>\n",
       "      <td>1.0</td>\n",
       "      <td>4.0</td>\n",
       "      <td>130.0</td>\n",
       "      <td>322.0</td>\n",
       "      <td>0.0</td>\n",
       "      <td>2.0</td>\n",
       "      <td>109.0</td>\n",
       "      <td>0.0</td>\n",
       "      <td>2.4</td>\n",
       "      <td>2.0</td>\n",
       "      <td>3.0</td>\n",
       "      <td>3.0</td>\n",
       "      <td>2</td>\n",
       "    </tr>\n",
       "    <tr>\n",
       "      <th>1</th>\n",
       "      <td>67.0</td>\n",
       "      <td>0.0</td>\n",
       "      <td>3.0</td>\n",
       "      <td>115.0</td>\n",
       "      <td>564.0</td>\n",
       "      <td>0.0</td>\n",
       "      <td>2.0</td>\n",
       "      <td>160.0</td>\n",
       "      <td>0.0</td>\n",
       "      <td>1.6</td>\n",
       "      <td>2.0</td>\n",
       "      <td>0.0</td>\n",
       "      <td>7.0</td>\n",
       "      <td>1</td>\n",
       "    </tr>\n",
       "    <tr>\n",
       "      <th>2</th>\n",
       "      <td>57.0</td>\n",
       "      <td>1.0</td>\n",
       "      <td>2.0</td>\n",
       "      <td>124.0</td>\n",
       "      <td>261.0</td>\n",
       "      <td>0.0</td>\n",
       "      <td>0.0</td>\n",
       "      <td>141.0</td>\n",
       "      <td>0.0</td>\n",
       "      <td>0.3</td>\n",
       "      <td>1.0</td>\n",
       "      <td>0.0</td>\n",
       "      <td>7.0</td>\n",
       "      <td>2</td>\n",
       "    </tr>\n",
       "    <tr>\n",
       "      <th>3</th>\n",
       "      <td>64.0</td>\n",
       "      <td>1.0</td>\n",
       "      <td>4.0</td>\n",
       "      <td>128.0</td>\n",
       "      <td>263.0</td>\n",
       "      <td>0.0</td>\n",
       "      <td>0.0</td>\n",
       "      <td>105.0</td>\n",
       "      <td>1.0</td>\n",
       "      <td>0.2</td>\n",
       "      <td>2.0</td>\n",
       "      <td>1.0</td>\n",
       "      <td>7.0</td>\n",
       "      <td>1</td>\n",
       "    </tr>\n",
       "    <tr>\n",
       "      <th>4</th>\n",
       "      <td>74.0</td>\n",
       "      <td>0.0</td>\n",
       "      <td>2.0</td>\n",
       "      <td>120.0</td>\n",
       "      <td>269.0</td>\n",
       "      <td>0.0</td>\n",
       "      <td>2.0</td>\n",
       "      <td>121.0</td>\n",
       "      <td>1.0</td>\n",
       "      <td>0.2</td>\n",
       "      <td>1.0</td>\n",
       "      <td>1.0</td>\n",
       "      <td>3.0</td>\n",
       "      <td>1</td>\n",
       "    </tr>\n",
       "  </tbody>\n",
       "</table>\n",
       "</div>"
      ],
      "text/plain": [
       "     0    1    2      3      4    5    6      7    8    9    10   11   12  13\n",
       "0  70.0  1.0  4.0  130.0  322.0  0.0  2.0  109.0  0.0  2.4  2.0  3.0  3.0   2\n",
       "1  67.0  0.0  3.0  115.0  564.0  0.0  2.0  160.0  0.0  1.6  2.0  0.0  7.0   1\n",
       "2  57.0  1.0  2.0  124.0  261.0  0.0  0.0  141.0  0.0  0.3  1.0  0.0  7.0   2\n",
       "3  64.0  1.0  4.0  128.0  263.0  0.0  0.0  105.0  1.0  0.2  2.0  1.0  7.0   1\n",
       "4  74.0  0.0  2.0  120.0  269.0  0.0  2.0  121.0  1.0  0.2  1.0  1.0  3.0   1"
      ]
     },
     "execution_count": 75,
     "metadata": {},
     "output_type": "execute_result"
    }
   ],
   "source": [
    "#delimeter =' ' is necessary because the file is delimited by spaces instead of colon\n",
    "#header=None to avoid losing the first row when assigning columns\n",
    "\n",
    "df=pd.read_csv('https://raw.githubusercontent.com/gitjuli/DAV-5400/master/Data/heart.dat', delimiter=' ',header=None)\n",
    "df.head()"
   ]
  },
  {
   "cell_type": "code",
   "execution_count": 140,
   "metadata": {},
   "outputs": [
    {
     "data": {
      "text/html": [
       "<div>\n",
       "<style scoped>\n",
       "    .dataframe tbody tr th:only-of-type {\n",
       "        vertical-align: middle;\n",
       "    }\n",
       "\n",
       "    .dataframe tbody tr th {\n",
       "        vertical-align: top;\n",
       "    }\n",
       "\n",
       "    .dataframe thead th {\n",
       "        text-align: right;\n",
       "    }\n",
       "</style>\n",
       "<table border=\"1\" class=\"dataframe\">\n",
       "  <thead>\n",
       "    <tr style=\"text-align: right;\">\n",
       "      <th></th>\n",
       "      <th>age</th>\n",
       "      <th>sex</th>\n",
       "      <th>chest pain type</th>\n",
       "      <th>rest blood press</th>\n",
       "      <th>serum cholesterol</th>\n",
       "      <th>fasting blood sugar &gt; 120</th>\n",
       "      <th>rest electrocard result</th>\n",
       "      <th>max heart rate</th>\n",
       "      <th>excercise ind chest pain</th>\n",
       "      <th>oldpeak</th>\n",
       "      <th>slope of peak</th>\n",
       "      <th>number vessels</th>\n",
       "      <th>thal</th>\n",
       "      <th>desease</th>\n",
       "    </tr>\n",
       "  </thead>\n",
       "  <tbody>\n",
       "    <tr>\n",
       "      <th>0</th>\n",
       "      <td>70.0</td>\n",
       "      <td>Male</td>\n",
       "      <td>4.0</td>\n",
       "      <td>130.0</td>\n",
       "      <td>322.0</td>\n",
       "      <td>No</td>\n",
       "      <td>2.0</td>\n",
       "      <td>109.0</td>\n",
       "      <td>0.0</td>\n",
       "      <td>2.4</td>\n",
       "      <td>2.0</td>\n",
       "      <td>3.0</td>\n",
       "      <td>3.0</td>\n",
       "      <td>Yes</td>\n",
       "    </tr>\n",
       "    <tr>\n",
       "      <th>1</th>\n",
       "      <td>67.0</td>\n",
       "      <td>Female</td>\n",
       "      <td>3.0</td>\n",
       "      <td>115.0</td>\n",
       "      <td>564.0</td>\n",
       "      <td>No</td>\n",
       "      <td>2.0</td>\n",
       "      <td>160.0</td>\n",
       "      <td>0.0</td>\n",
       "      <td>1.6</td>\n",
       "      <td>2.0</td>\n",
       "      <td>0.0</td>\n",
       "      <td>7.0</td>\n",
       "      <td>No</td>\n",
       "    </tr>\n",
       "    <tr>\n",
       "      <th>2</th>\n",
       "      <td>57.0</td>\n",
       "      <td>Male</td>\n",
       "      <td>2.0</td>\n",
       "      <td>124.0</td>\n",
       "      <td>261.0</td>\n",
       "      <td>No</td>\n",
       "      <td>0.0</td>\n",
       "      <td>141.0</td>\n",
       "      <td>0.0</td>\n",
       "      <td>0.3</td>\n",
       "      <td>1.0</td>\n",
       "      <td>0.0</td>\n",
       "      <td>7.0</td>\n",
       "      <td>Yes</td>\n",
       "    </tr>\n",
       "    <tr>\n",
       "      <th>3</th>\n",
       "      <td>64.0</td>\n",
       "      <td>Male</td>\n",
       "      <td>4.0</td>\n",
       "      <td>128.0</td>\n",
       "      <td>263.0</td>\n",
       "      <td>No</td>\n",
       "      <td>0.0</td>\n",
       "      <td>105.0</td>\n",
       "      <td>1.0</td>\n",
       "      <td>0.2</td>\n",
       "      <td>2.0</td>\n",
       "      <td>1.0</td>\n",
       "      <td>7.0</td>\n",
       "      <td>No</td>\n",
       "    </tr>\n",
       "    <tr>\n",
       "      <th>4</th>\n",
       "      <td>74.0</td>\n",
       "      <td>Female</td>\n",
       "      <td>2.0</td>\n",
       "      <td>120.0</td>\n",
       "      <td>269.0</td>\n",
       "      <td>No</td>\n",
       "      <td>2.0</td>\n",
       "      <td>121.0</td>\n",
       "      <td>1.0</td>\n",
       "      <td>0.2</td>\n",
       "      <td>1.0</td>\n",
       "      <td>1.0</td>\n",
       "      <td>3.0</td>\n",
       "      <td>No</td>\n",
       "    </tr>\n",
       "  </tbody>\n",
       "</table>\n",
       "</div>"
      ],
      "text/plain": [
       "    age     sex  chest pain type  rest blood press  serum cholesterol  \\\n",
       "0  70.0    Male              4.0             130.0              322.0   \n",
       "1  67.0  Female              3.0             115.0              564.0   \n",
       "2  57.0    Male              2.0             124.0              261.0   \n",
       "3  64.0    Male              4.0             128.0              263.0   \n",
       "4  74.0  Female              2.0             120.0              269.0   \n",
       "\n",
       "  fasting blood sugar > 120  rest electrocard result  max heart rate  \\\n",
       "0                        No                      2.0           109.0   \n",
       "1                        No                      2.0           160.0   \n",
       "2                        No                      0.0           141.0   \n",
       "3                        No                      0.0           105.0   \n",
       "4                        No                      2.0           121.0   \n",
       "\n",
       "   excercise ind chest pain  oldpeak  slope of peak  number vessels  thal  \\\n",
       "0                       0.0      2.4            2.0             3.0   3.0   \n",
       "1                       0.0      1.6            2.0             0.0   7.0   \n",
       "2                       0.0      0.3            1.0             0.0   7.0   \n",
       "3                       1.0      0.2            2.0             1.0   7.0   \n",
       "4                       1.0      0.2            1.0             1.0   3.0   \n",
       "\n",
       "  desease  \n",
       "0     Yes  \n",
       "1      No  \n",
       "2     Yes  \n",
       "3      No  \n",
       "4      No  "
      ]
     },
     "execution_count": 140,
     "metadata": {},
     "output_type": "execute_result"
    }
   ],
   "source": [
    "#creating columns based on data dictionary\n",
    "df.columns=['age','sex','chest pain type', 'rest blood press','serum cholesterol',\n",
    "           'fasting blood sugar > 120','rest electrocard result', 'max heart rate', \n",
    "            'excercise ind chest pain','oldpeak','slope of peak', 'number vessels',\n",
    "           'thal','desease']\n",
    "df.head()"
   ]
  },
  {
   "cell_type": "code",
   "execution_count": 141,
   "metadata": {},
   "outputs": [
    {
     "data": {
      "text/html": [
       "<div>\n",
       "<style scoped>\n",
       "    .dataframe tbody tr th:only-of-type {\n",
       "        vertical-align: middle;\n",
       "    }\n",
       "\n",
       "    .dataframe tbody tr th {\n",
       "        vertical-align: top;\n",
       "    }\n",
       "\n",
       "    .dataframe thead th {\n",
       "        text-align: right;\n",
       "    }\n",
       "</style>\n",
       "<table border=\"1\" class=\"dataframe\">\n",
       "  <thead>\n",
       "    <tr style=\"text-align: right;\">\n",
       "      <th></th>\n",
       "      <th>age</th>\n",
       "      <th>sex</th>\n",
       "      <th>chest pain type</th>\n",
       "      <th>rest blood press</th>\n",
       "      <th>serum cholesterol</th>\n",
       "      <th>fasting blood sugar &gt; 120</th>\n",
       "      <th>rest electrocard result</th>\n",
       "      <th>max heart rate</th>\n",
       "      <th>excercise ind chest pain</th>\n",
       "      <th>oldpeak</th>\n",
       "      <th>slope of peak</th>\n",
       "      <th>number vessels</th>\n",
       "      <th>thal</th>\n",
       "      <th>desease</th>\n",
       "    </tr>\n",
       "  </thead>\n",
       "  <tbody>\n",
       "    <tr>\n",
       "      <th>0</th>\n",
       "      <td>70.0</td>\n",
       "      <td>Male</td>\n",
       "      <td>4.0</td>\n",
       "      <td>130.0</td>\n",
       "      <td>322.0</td>\n",
       "      <td>No</td>\n",
       "      <td>2.0</td>\n",
       "      <td>109.0</td>\n",
       "      <td>No</td>\n",
       "      <td>2.4</td>\n",
       "      <td>2.0</td>\n",
       "      <td>3.0</td>\n",
       "      <td>3.0</td>\n",
       "      <td>Yes</td>\n",
       "    </tr>\n",
       "    <tr>\n",
       "      <th>1</th>\n",
       "      <td>67.0</td>\n",
       "      <td>Female</td>\n",
       "      <td>3.0</td>\n",
       "      <td>115.0</td>\n",
       "      <td>564.0</td>\n",
       "      <td>No</td>\n",
       "      <td>2.0</td>\n",
       "      <td>160.0</td>\n",
       "      <td>No</td>\n",
       "      <td>1.6</td>\n",
       "      <td>2.0</td>\n",
       "      <td>0.0</td>\n",
       "      <td>7.0</td>\n",
       "      <td>No</td>\n",
       "    </tr>\n",
       "    <tr>\n",
       "      <th>2</th>\n",
       "      <td>57.0</td>\n",
       "      <td>Male</td>\n",
       "      <td>2.0</td>\n",
       "      <td>124.0</td>\n",
       "      <td>261.0</td>\n",
       "      <td>No</td>\n",
       "      <td>0.0</td>\n",
       "      <td>141.0</td>\n",
       "      <td>No</td>\n",
       "      <td>0.3</td>\n",
       "      <td>1.0</td>\n",
       "      <td>0.0</td>\n",
       "      <td>7.0</td>\n",
       "      <td>Yes</td>\n",
       "    </tr>\n",
       "    <tr>\n",
       "      <th>3</th>\n",
       "      <td>64.0</td>\n",
       "      <td>Male</td>\n",
       "      <td>4.0</td>\n",
       "      <td>128.0</td>\n",
       "      <td>263.0</td>\n",
       "      <td>No</td>\n",
       "      <td>0.0</td>\n",
       "      <td>105.0</td>\n",
       "      <td>Yes</td>\n",
       "      <td>0.2</td>\n",
       "      <td>2.0</td>\n",
       "      <td>1.0</td>\n",
       "      <td>7.0</td>\n",
       "      <td>No</td>\n",
       "    </tr>\n",
       "    <tr>\n",
       "      <th>4</th>\n",
       "      <td>74.0</td>\n",
       "      <td>Female</td>\n",
       "      <td>2.0</td>\n",
       "      <td>120.0</td>\n",
       "      <td>269.0</td>\n",
       "      <td>No</td>\n",
       "      <td>2.0</td>\n",
       "      <td>121.0</td>\n",
       "      <td>Yes</td>\n",
       "      <td>0.2</td>\n",
       "      <td>1.0</td>\n",
       "      <td>1.0</td>\n",
       "      <td>3.0</td>\n",
       "      <td>No</td>\n",
       "    </tr>\n",
       "  </tbody>\n",
       "</table>\n",
       "</div>"
      ],
      "text/plain": [
       "    age     sex  chest pain type  rest blood press  serum cholesterol  \\\n",
       "0  70.0    Male              4.0             130.0              322.0   \n",
       "1  67.0  Female              3.0             115.0              564.0   \n",
       "2  57.0    Male              2.0             124.0              261.0   \n",
       "3  64.0    Male              4.0             128.0              263.0   \n",
       "4  74.0  Female              2.0             120.0              269.0   \n",
       "\n",
       "  fasting blood sugar > 120  rest electrocard result  max heart rate  \\\n",
       "0                        No                      2.0           109.0   \n",
       "1                        No                      2.0           160.0   \n",
       "2                        No                      0.0           141.0   \n",
       "3                        No                      0.0           105.0   \n",
       "4                        No                      2.0           121.0   \n",
       "\n",
       "  excercise ind chest pain  oldpeak  slope of peak  number vessels  thal  \\\n",
       "0                       No      2.4            2.0             3.0   3.0   \n",
       "1                       No      1.6            2.0             0.0   7.0   \n",
       "2                       No      0.3            1.0             0.0   7.0   \n",
       "3                      Yes      0.2            2.0             1.0   7.0   \n",
       "4                      Yes      0.2            1.0             1.0   3.0   \n",
       "\n",
       "  desease  \n",
       "0     Yes  \n",
       "1      No  \n",
       "2     Yes  \n",
       "3      No  \n",
       "4      No  "
      ]
     },
     "execution_count": 141,
     "metadata": {},
     "output_type": "execute_result"
    }
   ],
   "source": [
    "df.sex.replace({0.0: 'Female', 1.0: 'Male'}, inplace = True)\n",
    "df.desease.replace({1: 'No', 2: 'Yes'}, inplace = True)\n",
    "df['fasting blood sugar > 120'].replace({0: 'No', 1: 'Yes'}, inplace = True)\n",
    "df['excercise ind chest pain'].replace({0: 'No', 1: 'Yes'}, inplace = True)\n",
    "df.head()"
   ]
  },
  {
   "cell_type": "code",
   "execution_count": 128,
   "metadata": {},
   "outputs": [
    {
     "data": {
      "image/png": "[encoded data removed]",
      "text/plain": [
       "<Figure size 432x288 with 1 Axes>"
      ]
     },
     "metadata": {
      "needs_background": "light"
     },
     "output_type": "display_data"
    }
   ],
   "source": [
    "df['sex'].value_counts().plot(kind='bar')\n",
    "plt.show()"
   ]
  },
  {
   "cell_type": "code",
   "execution_count": 129,
   "metadata": {},
   "outputs": [
    {
     "data": {
      "image/png": "[encoded data removed]",
      "text/plain": [
       "<Figure size 432x288 with 1 Axes>"
      ]
     },
     "metadata": {
      "needs_background": "light"
     },
     "output_type": "display_data"
    }
   ],
   "source": [
    "sns.countplot(x='sex', data=df);"
   ]
  },
  {
   "cell_type": "code",
   "execution_count": 130,
   "metadata": {},
   "outputs": [
    {
     "data": {
      "image/png": "[encoded data removed]",
      "text/plain": [
       "<Figure size 432x288 with 1 Axes>"
      ]
     },
     "metadata": {
      "needs_background": "light"
     },
     "output_type": "display_data"
    }
   ],
   "source": [
    "# define a Matplotlib figure\n",
    "plt.figure(1)\n",
    "plt.subplot(111)\n",
    "# define the plot you want to generate\n",
    "plt.hist(df['age'])\n",
    "#plt.subplot(111)\n",
    "# define a title for the plot\n",
    "plt.title('Histogram of ages from Normal Distribution')\n",
    "# define the number of bins for the histogram + which plot axis they will\n",
    "# be applied to\n",
    "plt.locator_params(nbins=10, axis = 'x')\n",
    "plt.show()"
   ]
  },
  {
   "cell_type": "code",
   "execution_count": 131,
   "metadata": {},
   "outputs": [
    {
     "data": {
      "text/plain": [
       "<matplotlib.axes._subplots.AxesSubplot at 0x2cf0fb31cf8>"
      ]
     },
     "execution_count": 131,
     "metadata": {},
     "output_type": "execute_result"
    },
    {
     "data": {
      "image/png": "[encoded data removed]",
      "text/plain": [
       "<Figure size 432x288 with 1 Axes>"
      ]
     },
     "metadata": {
      "needs_background": "light"
     },
     "output_type": "display_data"
    }
   ],
   "source": [
    "# age\n",
    "sns.distplot(df['age'], bins = 10)"
   ]
  },
  {
   "cell_type": "code",
   "execution_count": 132,
   "metadata": {},
   "outputs": [
    {
     "data": {
      "image/png": "[encoded data removed]",
      "text/plain": [
       "<Figure size 432x288 with 1 Axes>"
      ]
     },
     "metadata": {
      "needs_background": "light"
     },
     "output_type": "display_data"
    }
   ],
   "source": [
    "df['chest pain type'].value_counts().plot(kind='bar')\n",
    "plt.show()"
   ]
  },
  {
   "cell_type": "code",
   "execution_count": 133,
   "metadata": {},
   "outputs": [
    {
     "data": {
      "image/png": "[encoded data removed]",
      "text/plain": [
       "<Figure size 432x288 with 1 Axes>"
      ]
     },
     "metadata": {
      "needs_background": "light"
     },
     "output_type": "display_data"
    }
   ],
   "source": [
    "sns.countplot(x='chest pain type', data=df);"
   ]
  },
  {
   "cell_type": "code",
   "execution_count": 134,
   "metadata": {},
   "outputs": [
    {
     "data": {
      "text/plain": [
       "<matplotlib.axes._subplots.AxesSubplot at 0x2cf0f148a90>"
      ]
     },
     "execution_count": 134,
     "metadata": {},
     "output_type": "execute_result"
    },
    {
     "data": {
      "image/png": "[encoded data removed]",
      "text/plain": [
       "<Figure size 432x288 with 1 Axes>"
      ]
     },
     "metadata": {
      "needs_background": "light"
     },
     "output_type": "display_data"
    }
   ],
   "source": [
    "# resting blood pressure\n",
    "sns.distplot(df['rest blood press'], bins = 10)"
   ]
  },
  {
   "cell_type": "code",
   "execution_count": 135,
   "metadata": {},
   "outputs": [
    {
     "data": {
      "text/plain": [
       "<matplotlib.axes._subplots.AxesSubplot at 0x2cf0f1ba1d0>"
      ]
     },
     "execution_count": 135,
     "metadata": {},
     "output_type": "execute_result"
    },
    {
     "data": {
      "image/png": "[encoded data removed]",
      "text/plain": [
       "<Figure size 432x288 with 1 Axes>"
      ]
     },
     "metadata": {
      "needs_background": "light"
     },
     "output_type": "display_data"
    }
   ],
   "source": [
    "#serum cholesterol\n",
    "sns.distplot(df['serum cholesterol'], bins = 10)"
   ]
  },
  {
   "cell_type": "code",
   "execution_count": 137,
   "metadata": {},
   "outputs": [
    {
     "data": {
      "image/png": "[encoded data removed]",
      "text/plain": [
       "<Figure size 432x288 with 1 Axes>"
      ]
     },
     "metadata": {
      "needs_background": "light"
     },
     "output_type": "display_data"
    }
   ],
   "source": [
    "sns.countplot(x='fasting blood sugar > 120', data=df);"
   ]
  },
  {
   "cell_type": "code",
   "execution_count": 138,
   "metadata": {},
   "outputs": [
    {
     "data": {
      "image/png": "[encoded data removed]",
      "text/plain": [
       "<Figure size 432x288 with 1 Axes>"
      ]
     },
     "metadata": {
      "needs_background": "light"
     },
     "output_type": "display_data"
    }
   ],
   "source": [
    "sns.countplot(x='rest electrocard result', data=df);"
   ]
  },
  {
   "cell_type": "code",
   "execution_count": 139,
   "metadata": {},
   "outputs": [
    {
     "data": {
      "text/plain": [
       "<matplotlib.axes._subplots.AxesSubplot at 0x2cf0f9940b8>"
      ]
     },
     "execution_count": 139,
     "metadata": {},
     "output_type": "execute_result"
    },
    {
     "data": {
      "image/png": "[encoded data removed]",
      "text/plain": [
       "<Figure size 432x288 with 1 Axes>"
      ]
     },
     "metadata": {
      "needs_background": "light"
     },
     "output_type": "display_data"
    }
   ],
   "source": [
    "# max heart rate\n",
    "sns.distplot(df['max heart rate'], bins = 10)"
   ]
  },
  {
   "cell_type": "code",
   "execution_count": 142,
   "metadata": {},
   "outputs": [
    {
     "data": {
      "image/png": "[encoded data removed]",
      "text/plain": [
       "<Figure size 432x288 with 1 Axes>"
      ]
     },
     "metadata": {
      "needs_background": "light"
     },
     "output_type": "display_data"
    }
   ],
   "source": [
    "#excercise ind chest pain\n",
    "sns.countplot(x='excercise ind chest pain', data=df);"
   ]
  },
  {
   "cell_type": "code",
   "execution_count": 145,
   "metadata": {},
   "outputs": [
    {
     "data": {
      "text/plain": [
       "<matplotlib.axes._subplots.AxesSubplot at 0x2cf0f320518>"
      ]
     },
     "execution_count": 145,
     "metadata": {},
     "output_type": "execute_result"
    },
    {
     "data": {
      "image/png": "[encoded data removed]",
      "text/plain": [
       "<Figure size 432x288 with 1 Axes>"
      ]
     },
     "metadata": {
      "needs_background": "light"
     },
     "output_type": "display_data"
    }
   ],
   "source": [
    "# oldpeak\n",
    "sns.distplot(df['oldpeak'], bins = 10)"
   ]
  },
  {
   "cell_type": "code",
   "execution_count": 146,
   "metadata": {},
   "outputs": [
    {
     "data": {
      "text/plain": [
       "count    270.00000\n",
       "mean       1.05000\n",
       "std        1.14521\n",
       "min        0.00000\n",
       "25%        0.00000\n",
       "50%        0.80000\n",
       "75%        1.60000\n",
       "max        6.20000\n",
       "Name: oldpeak, dtype: float64"
      ]
     },
     "execution_count": 146,
     "metadata": {},
     "output_type": "execute_result"
    }
   ],
   "source": [
    "df['oldpeak'].describe()"
   ]
  },
  {
   "cell_type": "code",
   "execution_count": 150,
   "metadata": {},
   "outputs": [
    {
     "data": {
      "text/plain": [
       "Yes    73\n",
       "No     40\n",
       "Name: desease, dtype: int64"
      ]
     },
     "execution_count": 150,
     "metadata": {},
     "output_type": "execute_result"
    }
   ],
   "source": [
    "df[df['oldpeak']>1]['desease'].value_counts()"
   ]
  },
  {
   "cell_type": "code",
   "execution_count": 151,
   "metadata": {},
   "outputs": [
    {
     "data": {
      "text/plain": [
       "No     110\n",
       "Yes     47\n",
       "Name: desease, dtype: int64"
      ]
     },
     "execution_count": 151,
     "metadata": {},
     "output_type": "execute_result"
    }
   ],
   "source": [
    "df[df['oldpeak']<=1]['desease'].value_counts()"
   ]
  },
  {
   "cell_type": "code",
   "execution_count": null,
   "metadata": {},
   "outputs": [],
   "source": []
  },
  {
   "cell_type": "code",
   "execution_count": null,
   "metadata": {},
   "outputs": [],
   "source": []
  },
  {
   "cell_type": "code",
   "execution_count": null,
   "metadata": {},
   "outputs": [],
   "source": []
  },
  {
   "cell_type": "code",
   "execution_count": null,
   "metadata": {},
   "outputs": [],
   "source": []
  },
  {
   "cell_type": "code",
   "execution_count": null,
   "metadata": {},
   "outputs": [],
   "source": []
  },
  {
   "cell_type": "code",
   "execution_count": 27,
   "metadata": {},
   "outputs": [
    {
     "data": {
      "text/html": [
       "<div>\n",
       "<style scoped>\n",
       "    .dataframe tbody tr th:only-of-type {\n",
       "        vertical-align: middle;\n",
       "    }\n",
       "\n",
       "    .dataframe tbody tr th {\n",
       "        vertical-align: top;\n",
       "    }\n",
       "\n",
       "    .dataframe thead th {\n",
       "        text-align: right;\n",
       "    }\n",
       "</style>\n",
       "<table border=\"1\" class=\"dataframe\">\n",
       "  <thead>\n",
       "    <tr style=\"text-align: right;\">\n",
       "      <th></th>\n",
       "      <th>age</th>\n",
       "      <th>sex</th>\n",
       "      <th>chest pain type</th>\n",
       "      <th>rest blood press</th>\n",
       "      <th>serum cholesterol</th>\n",
       "      <th>fasting blood sugar</th>\n",
       "      <th>rest electrocard result</th>\n",
       "      <th>max heart rate</th>\n",
       "      <th>excercise ind angina</th>\n",
       "      <th>oldpeak</th>\n",
       "      <th>slope of peak</th>\n",
       "      <th>number vessels</th>\n",
       "      <th>thal</th>\n",
       "      <th>abs or prese</th>\n",
       "    </tr>\n",
       "  </thead>\n",
       "  <tbody>\n",
       "    <tr>\n",
       "      <th>count</th>\n",
       "      <td>120.000000</td>\n",
       "      <td>120.000000</td>\n",
       "      <td>120.000000</td>\n",
       "      <td>120.000000</td>\n",
       "      <td>120.000000</td>\n",
       "      <td>120.000000</td>\n",
       "      <td>120.00000</td>\n",
       "      <td>120.000000</td>\n",
       "      <td>120.00000</td>\n",
       "      <td>120.000000</td>\n",
       "      <td>120.000000</td>\n",
       "      <td>120.000000</td>\n",
       "      <td>120.000000</td>\n",
       "      <td>120.0</td>\n",
       "    </tr>\n",
       "    <tr>\n",
       "      <th>mean</th>\n",
       "      <td>56.591667</td>\n",
       "      <td>0.833333</td>\n",
       "      <td>3.616667</td>\n",
       "      <td>134.441667</td>\n",
       "      <td>256.466667</td>\n",
       "      <td>0.141667</td>\n",
       "      <td>1.22500</td>\n",
       "      <td>138.858333</td>\n",
       "      <td>0.55000</td>\n",
       "      <td>1.584167</td>\n",
       "      <td>1.816667</td>\n",
       "      <td>1.150000</td>\n",
       "      <td>5.833333</td>\n",
       "      <td>2.0</td>\n",
       "    </tr>\n",
       "    <tr>\n",
       "      <th>std</th>\n",
       "      <td>8.116273</td>\n",
       "      <td>0.374241</td>\n",
       "      <td>0.779823</td>\n",
       "      <td>19.095424</td>\n",
       "      <td>47.969166</td>\n",
       "      <td>0.350170</td>\n",
       "      <td>0.97414</td>\n",
       "      <td>23.130719</td>\n",
       "      <td>0.49958</td>\n",
       "      <td>1.282067</td>\n",
       "      <td>0.564843</td>\n",
       "      <td>1.034286</td>\n",
       "      <td>1.769648</td>\n",
       "      <td>0.0</td>\n",
       "    </tr>\n",
       "    <tr>\n",
       "      <th>min</th>\n",
       "      <td>35.000000</td>\n",
       "      <td>0.000000</td>\n",
       "      <td>1.000000</td>\n",
       "      <td>100.000000</td>\n",
       "      <td>149.000000</td>\n",
       "      <td>0.000000</td>\n",
       "      <td>0.00000</td>\n",
       "      <td>71.000000</td>\n",
       "      <td>0.00000</td>\n",
       "      <td>0.000000</td>\n",
       "      <td>1.000000</td>\n",
       "      <td>0.000000</td>\n",
       "      <td>3.000000</td>\n",
       "      <td>2.0</td>\n",
       "    </tr>\n",
       "    <tr>\n",
       "      <th>25%</th>\n",
       "      <td>52.000000</td>\n",
       "      <td>1.000000</td>\n",
       "      <td>4.000000</td>\n",
       "      <td>120.000000</td>\n",
       "      <td>227.250000</td>\n",
       "      <td>0.000000</td>\n",
       "      <td>0.00000</td>\n",
       "      <td>124.750000</td>\n",
       "      <td>0.00000</td>\n",
       "      <td>0.600000</td>\n",
       "      <td>1.000000</td>\n",
       "      <td>0.000000</td>\n",
       "      <td>3.000000</td>\n",
       "      <td>2.0</td>\n",
       "    </tr>\n",
       "    <tr>\n",
       "      <th>50%</th>\n",
       "      <td>58.000000</td>\n",
       "      <td>1.000000</td>\n",
       "      <td>4.000000</td>\n",
       "      <td>130.000000</td>\n",
       "      <td>255.500000</td>\n",
       "      <td>0.000000</td>\n",
       "      <td>2.00000</td>\n",
       "      <td>141.500000</td>\n",
       "      <td>1.00000</td>\n",
       "      <td>1.400000</td>\n",
       "      <td>2.000000</td>\n",
       "      <td>1.000000</td>\n",
       "      <td>7.000000</td>\n",
       "      <td>2.0</td>\n",
       "    </tr>\n",
       "    <tr>\n",
       "      <th>75%</th>\n",
       "      <td>62.000000</td>\n",
       "      <td>1.000000</td>\n",
       "      <td>4.000000</td>\n",
       "      <td>145.000000</td>\n",
       "      <td>286.500000</td>\n",
       "      <td>0.000000</td>\n",
       "      <td>2.00000</td>\n",
       "      <td>157.250000</td>\n",
       "      <td>1.00000</td>\n",
       "      <td>2.425000</td>\n",
       "      <td>2.000000</td>\n",
       "      <td>2.000000</td>\n",
       "      <td>7.000000</td>\n",
       "      <td>2.0</td>\n",
       "    </tr>\n",
       "    <tr>\n",
       "      <th>max</th>\n",
       "      <td>77.000000</td>\n",
       "      <td>1.000000</td>\n",
       "      <td>4.000000</td>\n",
       "      <td>200.000000</td>\n",
       "      <td>409.000000</td>\n",
       "      <td>1.000000</td>\n",
       "      <td>2.00000</td>\n",
       "      <td>195.000000</td>\n",
       "      <td>1.00000</td>\n",
       "      <td>6.200000</td>\n",
       "      <td>3.000000</td>\n",
       "      <td>3.000000</td>\n",
       "      <td>7.000000</td>\n",
       "      <td>2.0</td>\n",
       "    </tr>\n",
       "  </tbody>\n",
       "</table>\n",
       "</div>"
      ],
      "text/plain": [
       "              age         sex  chest pain type  rest blood press  \\\n",
       "count  120.000000  120.000000       120.000000        120.000000   \n",
       "mean    56.591667    0.833333         3.616667        134.441667   \n",
       "std      8.116273    0.374241         0.779823         19.095424   \n",
       "min     35.000000    0.000000         1.000000        100.000000   \n",
       "25%     52.000000    1.000000         4.000000        120.000000   \n",
       "50%     58.000000    1.000000         4.000000        130.000000   \n",
       "75%     62.000000    1.000000         4.000000        145.000000   \n",
       "max     77.000000    1.000000         4.000000        200.000000   \n",
       "\n",
       "       serum cholesterol  fasting blood sugar  rest electrocard result  \\\n",
       "count         120.000000           120.000000                120.00000   \n",
       "mean          256.466667             0.141667                  1.22500   \n",
       "std            47.969166             0.350170                  0.97414   \n",
       "min           149.000000             0.000000                  0.00000   \n",
       "25%           227.250000             0.000000                  0.00000   \n",
       "50%           255.500000             0.000000                  2.00000   \n",
       "75%           286.500000             0.000000                  2.00000   \n",
       "max           409.000000             1.000000                  2.00000   \n",
       "\n",
       "       max heart rate  excercise ind angina     oldpeak  slope of peak  \\\n",
       "count      120.000000             120.00000  120.000000     120.000000   \n",
       "mean       138.858333               0.55000    1.584167       1.816667   \n",
       "std         23.130719               0.49958    1.282067       0.564843   \n",
       "min         71.000000               0.00000    0.000000       1.000000   \n",
       "25%        124.750000               0.00000    0.600000       1.000000   \n",
       "50%        141.500000               1.00000    1.400000       2.000000   \n",
       "75%        157.250000               1.00000    2.425000       2.000000   \n",
       "max        195.000000               1.00000    6.200000       3.000000   \n",
       "\n",
       "       number vessels        thal  abs or prese  \n",
       "count      120.000000  120.000000         120.0  \n",
       "mean         1.150000    5.833333           2.0  \n",
       "std          1.034286    1.769648           0.0  \n",
       "min          0.000000    3.000000           2.0  \n",
       "25%          0.000000    3.000000           2.0  \n",
       "50%          1.000000    7.000000           2.0  \n",
       "75%          2.000000    7.000000           2.0  \n",
       "max          3.000000    7.000000           2.0  "
      ]
     },
     "execution_count": 27,
     "metadata": {},
     "output_type": "execute_result"
    }
   ],
   "source": [
    "deseaseYes.describe()"
   ]
  },
  {
   "cell_type": "code",
   "execution_count": null,
   "metadata": {},
   "outputs": [],
   "source": []
  },
  {
   "cell_type": "code",
   "execution_count": 28,
   "metadata": {},
   "outputs": [
    {
     "data": {
      "text/html": [
       "<div>\n",
       "<style scoped>\n",
       "    .dataframe tbody tr th:only-of-type {\n",
       "        vertical-align: middle;\n",
       "    }\n",
       "\n",
       "    .dataframe tbody tr th {\n",
       "        vertical-align: top;\n",
       "    }\n",
       "\n",
       "    .dataframe thead th {\n",
       "        text-align: right;\n",
       "    }\n",
       "</style>\n",
       "<table border=\"1\" class=\"dataframe\">\n",
       "  <thead>\n",
       "    <tr style=\"text-align: right;\">\n",
       "      <th></th>\n",
       "      <th>age</th>\n",
       "      <th>sex</th>\n",
       "      <th>chest pain type</th>\n",
       "      <th>rest blood press</th>\n",
       "      <th>serum cholesterol</th>\n",
       "      <th>fasting blood sugar</th>\n",
       "      <th>rest electrocard result</th>\n",
       "      <th>max heart rate</th>\n",
       "      <th>excercise ind angina</th>\n",
       "      <th>oldpeak</th>\n",
       "      <th>slope of peak</th>\n",
       "      <th>number vessels</th>\n",
       "      <th>thal</th>\n",
       "      <th>abs or prese</th>\n",
       "    </tr>\n",
       "  </thead>\n",
       "  <tbody>\n",
       "    <tr>\n",
       "      <th>age</th>\n",
       "      <td>1.000000</td>\n",
       "      <td>-0.152624</td>\n",
       "      <td>-0.046182</td>\n",
       "      <td>0.219196</td>\n",
       "      <td>0.158381</td>\n",
       "      <td>0.091487</td>\n",
       "      <td>0.106312</td>\n",
       "      <td>-0.147846</td>\n",
       "      <td>-0.020828</td>\n",
       "      <td>0.094910</td>\n",
       "      <td>0.133841</td>\n",
       "      <td>0.370739</td>\n",
       "      <td>-0.179130</td>\n",
       "      <td>NaN</td>\n",
       "    </tr>\n",
       "    <tr>\n",
       "      <th>sex</th>\n",
       "      <td>-0.152624</td>\n",
       "      <td>1.000000</td>\n",
       "      <td>-0.134373</td>\n",
       "      <td>-0.334153</td>\n",
       "      <td>-0.313940</td>\n",
       "      <td>-0.138936</td>\n",
       "      <td>-0.011525</td>\n",
       "      <td>-0.090119</td>\n",
       "      <td>0.044947</td>\n",
       "      <td>-0.131649</td>\n",
       "      <td>-0.145763</td>\n",
       "      <td>-0.086840</td>\n",
       "      <td>0.160723</td>\n",
       "      <td>NaN</td>\n",
       "    </tr>\n",
       "    <tr>\n",
       "      <th>chest pain type</th>\n",
       "      <td>-0.046182</td>\n",
       "      <td>-0.134373</td>\n",
       "      <td>1.000000</td>\n",
       "      <td>-0.104221</td>\n",
       "      <td>-0.005062</td>\n",
       "      <td>-0.045648</td>\n",
       "      <td>0.070244</td>\n",
       "      <td>-0.226189</td>\n",
       "      <td>0.351593</td>\n",
       "      <td>0.096421</td>\n",
       "      <td>0.048966</td>\n",
       "      <td>0.123983</td>\n",
       "      <td>0.135995</td>\n",
       "      <td>NaN</td>\n",
       "    </tr>\n",
       "    <tr>\n",
       "      <th>rest blood press</th>\n",
       "      <td>0.219196</td>\n",
       "      <td>-0.334153</td>\n",
       "      <td>-0.104221</td>\n",
       "      <td>1.000000</td>\n",
       "      <td>0.229565</td>\n",
       "      <td>0.169021</td>\n",
       "      <td>0.077284</td>\n",
       "      <td>0.023049</td>\n",
       "      <td>0.063292</td>\n",
       "      <td>0.164225</td>\n",
       "      <td>0.210917</td>\n",
       "      <td>0.016190</td>\n",
       "      <td>0.104652</td>\n",
       "      <td>NaN</td>\n",
       "    </tr>\n",
       "    <tr>\n",
       "      <th>serum cholesterol</th>\n",
       "      <td>0.158381</td>\n",
       "      <td>-0.313940</td>\n",
       "      <td>-0.005062</td>\n",
       "      <td>0.229565</td>\n",
       "      <td>1.000000</td>\n",
       "      <td>0.117099</td>\n",
       "      <td>0.095743</td>\n",
       "      <td>0.045282</td>\n",
       "      <td>0.094748</td>\n",
       "      <td>-0.065617</td>\n",
       "      <td>-0.034653</td>\n",
       "      <td>0.099864</td>\n",
       "      <td>-0.054809</td>\n",
       "      <td>NaN</td>\n",
       "    </tr>\n",
       "    <tr>\n",
       "      <th>fasting blood sugar</th>\n",
       "      <td>0.091487</td>\n",
       "      <td>-0.138936</td>\n",
       "      <td>-0.045648</td>\n",
       "      <td>0.169021</td>\n",
       "      <td>0.117099</td>\n",
       "      <td>1.000000</td>\n",
       "      <td>0.078216</td>\n",
       "      <td>0.064748</td>\n",
       "      <td>0.079260</td>\n",
       "      <td>-0.017423</td>\n",
       "      <td>0.089929</td>\n",
       "      <td>0.126453</td>\n",
       "      <td>0.024862</td>\n",
       "      <td>NaN</td>\n",
       "    </tr>\n",
       "    <tr>\n",
       "      <th>rest electrocard result</th>\n",
       "      <td>0.106312</td>\n",
       "      <td>-0.011525</td>\n",
       "      <td>0.070244</td>\n",
       "      <td>0.077284</td>\n",
       "      <td>0.095743</td>\n",
       "      <td>0.078216</td>\n",
       "      <td>1.000000</td>\n",
       "      <td>0.045061</td>\n",
       "      <td>-0.031945</td>\n",
       "      <td>0.015661</td>\n",
       "      <td>0.014509</td>\n",
       "      <td>0.141371</td>\n",
       "      <td>-0.090181</td>\n",
       "      <td>NaN</td>\n",
       "    </tr>\n",
       "    <tr>\n",
       "      <th>max heart rate</th>\n",
       "      <td>-0.147846</td>\n",
       "      <td>-0.090119</td>\n",
       "      <td>-0.226189</td>\n",
       "      <td>0.023049</td>\n",
       "      <td>0.045282</td>\n",
       "      <td>0.064748</td>\n",
       "      <td>0.045061</td>\n",
       "      <td>1.000000</td>\n",
       "      <td>-0.302264</td>\n",
       "      <td>-0.233346</td>\n",
       "      <td>-0.365404</td>\n",
       "      <td>-0.083757</td>\n",
       "      <td>0.021385</td>\n",
       "      <td>NaN</td>\n",
       "    </tr>\n",
       "    <tr>\n",
       "      <th>excercise ind angina</th>\n",
       "      <td>-0.020828</td>\n",
       "      <td>0.044947</td>\n",
       "      <td>0.351593</td>\n",
       "      <td>0.063292</td>\n",
       "      <td>0.094748</td>\n",
       "      <td>0.079260</td>\n",
       "      <td>-0.031945</td>\n",
       "      <td>-0.302264</td>\n",
       "      <td>1.000000</td>\n",
       "      <td>0.181648</td>\n",
       "      <td>0.211436</td>\n",
       "      <td>-0.047163</td>\n",
       "      <td>0.152083</td>\n",
       "      <td>NaN</td>\n",
       "    </tr>\n",
       "    <tr>\n",
       "      <th>oldpeak</th>\n",
       "      <td>0.094910</td>\n",
       "      <td>-0.131649</td>\n",
       "      <td>0.096421</td>\n",
       "      <td>0.164225</td>\n",
       "      <td>-0.065617</td>\n",
       "      <td>-0.017423</td>\n",
       "      <td>0.015661</td>\n",
       "      <td>-0.233346</td>\n",
       "      <td>0.181648</td>\n",
       "      <td>1.000000</td>\n",
       "      <td>0.607498</td>\n",
       "      <td>0.129185</td>\n",
       "      <td>0.156612</td>\n",
       "      <td>NaN</td>\n",
       "    </tr>\n",
       "    <tr>\n",
       "      <th>slope of peak</th>\n",
       "      <td>0.133841</td>\n",
       "      <td>-0.145763</td>\n",
       "      <td>0.048966</td>\n",
       "      <td>0.210917</td>\n",
       "      <td>-0.034653</td>\n",
       "      <td>0.089929</td>\n",
       "      <td>0.014509</td>\n",
       "      <td>-0.365404</td>\n",
       "      <td>0.211436</td>\n",
       "      <td>0.607498</td>\n",
       "      <td>1.000000</td>\n",
       "      <td>0.004315</td>\n",
       "      <td>0.128907</td>\n",
       "      <td>NaN</td>\n",
       "    </tr>\n",
       "    <tr>\n",
       "      <th>number vessels</th>\n",
       "      <td>0.370739</td>\n",
       "      <td>-0.086840</td>\n",
       "      <td>0.123983</td>\n",
       "      <td>0.016190</td>\n",
       "      <td>0.099864</td>\n",
       "      <td>0.126453</td>\n",
       "      <td>0.141371</td>\n",
       "      <td>-0.083757</td>\n",
       "      <td>-0.047163</td>\n",
       "      <td>0.129185</td>\n",
       "      <td>0.004315</td>\n",
       "      <td>1.000000</td>\n",
       "      <td>0.009182</td>\n",
       "      <td>NaN</td>\n",
       "    </tr>\n",
       "    <tr>\n",
       "      <th>thal</th>\n",
       "      <td>-0.179130</td>\n",
       "      <td>0.160723</td>\n",
       "      <td>0.135995</td>\n",
       "      <td>0.104652</td>\n",
       "      <td>-0.054809</td>\n",
       "      <td>0.024862</td>\n",
       "      <td>-0.090181</td>\n",
       "      <td>0.021385</td>\n",
       "      <td>0.152083</td>\n",
       "      <td>0.156612</td>\n",
       "      <td>0.128907</td>\n",
       "      <td>0.009182</td>\n",
       "      <td>1.000000</td>\n",
       "      <td>NaN</td>\n",
       "    </tr>\n",
       "    <tr>\n",
       "      <th>abs or prese</th>\n",
       "      <td>NaN</td>\n",
       "      <td>NaN</td>\n",
       "      <td>NaN</td>\n",
       "      <td>NaN</td>\n",
       "      <td>NaN</td>\n",
       "      <td>NaN</td>\n",
       "      <td>NaN</td>\n",
       "      <td>NaN</td>\n",
       "      <td>NaN</td>\n",
       "      <td>NaN</td>\n",
       "      <td>NaN</td>\n",
       "      <td>NaN</td>\n",
       "      <td>NaN</td>\n",
       "      <td>NaN</td>\n",
       "    </tr>\n",
       "  </tbody>\n",
       "</table>\n",
       "</div>"
      ],
      "text/plain": [
       "                              age       sex  chest pain type  \\\n",
       "age                      1.000000 -0.152624        -0.046182   \n",
       "sex                     -0.152624  1.000000        -0.134373   \n",
       "chest pain type         -0.046182 -0.134373         1.000000   \n",
       "rest blood press         0.219196 -0.334153        -0.104221   \n",
       "serum cholesterol        0.158381 -0.313940        -0.005062   \n",
       "fasting blood sugar      0.091487 -0.138936        -0.045648   \n",
       "rest electrocard result  0.106312 -0.011525         0.070244   \n",
       "max heart rate          -0.147846 -0.090119        -0.226189   \n",
       "excercise ind angina    -0.020828  0.044947         0.351593   \n",
       "oldpeak                  0.094910 -0.131649         0.096421   \n",
       "slope of peak            0.133841 -0.145763         0.048966   \n",
       "number vessels           0.370739 -0.086840         0.123983   \n",
       "thal                    -0.179130  0.160723         0.135995   \n",
       "abs or prese                  NaN       NaN              NaN   \n",
       "\n",
       "                         rest blood press  serum cholesterol  \\\n",
       "age                              0.219196           0.158381   \n",
       "sex                             -0.334153          -0.313940   \n",
       "chest pain type                 -0.104221          -0.005062   \n",
       "rest blood press                 1.000000           0.229565   \n",
       "serum cholesterol                0.229565           1.000000   \n",
       "fasting blood sugar              0.169021           0.117099   \n",
       "rest electrocard result          0.077284           0.095743   \n",
       "max heart rate                   0.023049           0.045282   \n",
       "excercise ind angina             0.063292           0.094748   \n",
       "oldpeak                          0.164225          -0.065617   \n",
       "slope of peak                    0.210917          -0.034653   \n",
       "number vessels                   0.016190           0.099864   \n",
       "thal                             0.104652          -0.054809   \n",
       "abs or prese                          NaN                NaN   \n",
       "\n",
       "                         fasting blood sugar  rest electrocard result  \\\n",
       "age                                 0.091487                 0.106312   \n",
       "sex                                -0.138936                -0.011525   \n",
       "chest pain type                    -0.045648                 0.070244   \n",
       "rest blood press                    0.169021                 0.077284   \n",
       "serum cholesterol                   0.117099                 0.095743   \n",
       "fasting blood sugar                 1.000000                 0.078216   \n",
       "rest electrocard result             0.078216                 1.000000   \n",
       "max heart rate                      0.064748                 0.045061   \n",
       "excercise ind angina                0.079260                -0.031945   \n",
       "oldpeak                            -0.017423                 0.015661   \n",
       "slope of peak                       0.089929                 0.014509   \n",
       "number vessels                      0.126453                 0.141371   \n",
       "thal                                0.024862                -0.090181   \n",
       "abs or prese                             NaN                      NaN   \n",
       "\n",
       "                         max heart rate  excercise ind angina   oldpeak  \\\n",
       "age                           -0.147846             -0.020828  0.094910   \n",
       "sex                           -0.090119              0.044947 -0.131649   \n",
       "chest pain type               -0.226189              0.351593  0.096421   \n",
       "rest blood press               0.023049              0.063292  0.164225   \n",
       "serum cholesterol              0.045282              0.094748 -0.065617   \n",
       "fasting blood sugar            0.064748              0.079260 -0.017423   \n",
       "rest electrocard result        0.045061             -0.031945  0.015661   \n",
       "max heart rate                 1.000000             -0.302264 -0.233346   \n",
       "excercise ind angina          -0.302264              1.000000  0.181648   \n",
       "oldpeak                       -0.233346              0.181648  1.000000   \n",
       "slope of peak                 -0.365404              0.211436  0.607498   \n",
       "number vessels                -0.083757             -0.047163  0.129185   \n",
       "thal                           0.021385              0.152083  0.156612   \n",
       "abs or prese                        NaN                   NaN       NaN   \n",
       "\n",
       "                         slope of peak  number vessels      thal  abs or prese  \n",
       "age                           0.133841        0.370739 -0.179130           NaN  \n",
       "sex                          -0.145763       -0.086840  0.160723           NaN  \n",
       "chest pain type               0.048966        0.123983  0.135995           NaN  \n",
       "rest blood press              0.210917        0.016190  0.104652           NaN  \n",
       "serum cholesterol            -0.034653        0.099864 -0.054809           NaN  \n",
       "fasting blood sugar           0.089929        0.126453  0.024862           NaN  \n",
       "rest electrocard result       0.014509        0.141371 -0.090181           NaN  \n",
       "max heart rate               -0.365404       -0.083757  0.021385           NaN  \n",
       "excercise ind angina          0.211436       -0.047163  0.152083           NaN  \n",
       "oldpeak                       0.607498        0.129185  0.156612           NaN  \n",
       "slope of peak                 1.000000        0.004315  0.128907           NaN  \n",
       "number vessels                0.004315        1.000000  0.009182           NaN  \n",
       "thal                          0.128907        0.009182  1.000000           NaN  \n",
       "abs or prese                       NaN             NaN       NaN           NaN  "
      ]
     },
     "execution_count": 28,
     "metadata": {},
     "output_type": "execute_result"
    }
   ],
   "source": [
    "deseaseYes.corr()"
   ]
  },
  {
   "cell_type": "code",
   "execution_count": null,
   "metadata": {},
   "outputs": [],
   "source": []
  },
  {
   "cell_type": "code",
   "execution_count": null,
   "metadata": {},
   "outputs": [],
   "source": []
  },
  {
   "cell_type": "code",
   "execution_count": null,
   "metadata": {},
   "outputs": [],
   "source": []
  },
  {
   "cell_type": "code",
   "execution_count": null,
   "metadata": {},
   "outputs": [],
   "source": []
  }
 ],
 "metadata": {
  "kernelspec": {
   "display_name": "Python 3",
   "language": "python",
   "name": "python3"
  },
  "language_info": {
   "codemirror_mode": {
    "name": "ipython",
    "version": 3
   },
   "file_extension": ".py",
   "mimetype": "text/x-python",
   "name": "python",
   "nbconvert_exporter": "python",
   "pygments_lexer": "ipython3",
   "version": "3.7.3"
  }
 },
 "nbformat": 4,
 "nbformat_minor": 2
}
