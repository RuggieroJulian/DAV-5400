{
 "cells": [
  {
   "cell_type": "markdown",
   "metadata": {},
   "source": [
    "## Assignment 8 - Ruggiero Julian\n",
    "\n",
    "_Regular Expressions_"
   ]
  },
  {
   "cell_type": "markdown",
   "metadata": {},
   "source": [
    "For this assignment, it is required to use Python regular expression skills, and the starting point for all tasks will be the following text string containing names and phone numbers of some residents of the town of Springfield:"
   ]
  },
  {
   "cell_type": "code",
   "execution_count": 2,
   "metadata": {},
   "outputs": [],
   "source": [
    "text=\"\"\"555-1239Moe Szyslak(636) 555-0113Burns, C. Montgomery555 -6542Rev. Timothy Lovejoy555 \n",
    "8904Ned Flanders636-555-3226Simpson, Homer5553642Dr. Julius Hibbert\"\"\""
   ]
  },
  {
   "cell_type": "markdown",
   "metadata": {},
   "source": [
    "### Task 1\n",
    "Extract the names of each individual from the unformatted text string and store them in a vector of some sort. When complete, your vector should contain the following entries:\n",
    "\n",
    "    \"Moe Szyslak\"  \"Burns, C. Montgomery\"  \"Rev. Timothy Lovejoy\" \n",
    "    \"Ned Flanders\"   \"Simpson, Homer\"      \"Dr. Julius Hibbert\""
   ]
  },
  {
   "cell_type": "markdown",
   "metadata": {},
   "source": [
    "For this first problem the regular expression defined below checks:\n",
    " - __'[A-Za-z]+'__ = 1 or more lowercase characters in the range of [a-z] or uppercase characters in the range of [A-Z].\n",
    " - __',?'__ = optional comma.\n",
    " - __'\\.?'__ = optional dot.\n",
    " \n",
    "Up to this point the first part of the name was built including a point or comma\n",
    "\n",
    " - __'\\s'__ = whitespace character.\n",
    " - __'[A-Za-z]+'__ = 1 or more lowercase characters in the range of [a-z] or uppercase characters in the range of [A-Z].\n",
    " - __'\\.?'__ = optional dot.\n",
    " - __'\\s?'__ = optional whitespace. This is because for the case of Moe Szyslak there is nothing after the last name (or second word).\n",
    " - __'[A-Za-z]*'__ = 0 or more lowercase characters in the range of [a-z] or uppercase characters in the range of [A-Z].\n",
    " \n",
    "The regular expression is passed to the function 'findall', which searches all substrings where the RE matches, and returns them as a list called task1."
   ]
  },
  {
   "cell_type": "code",
   "execution_count": 3,
   "metadata": {},
   "outputs": [
    {
     "data": {
      "text/plain": [
       "['Moe Szyslak',\n",
       " 'Burns, C. Montgomery',\n",
       " 'Rev. Timothy Lovejoy',\n",
       " 'Ned Flanders',\n",
       " 'Simpson, Homer',\n",
       " 'Dr. Julius Hibbert']"
      ]
     },
     "execution_count": 3,
     "metadata": {},
     "output_type": "execute_result"
    }
   ],
   "source": [
    "import re\n",
    "import pandas as pd\n",
    "task1=re.findall('[A-Za-z]+,?\\.?\\s[A-Za-z]+\\.?\\s?[A-Za-z]*',text)\n",
    "task1"
   ]
  },
  {
   "cell_type": "markdown",
   "metadata": {},
   "source": [
    "### Task 2\n",
    "Using the new vector containing only the names of the six individuals, complete the following tasks:\n",
    "\n",
    "    a. Use your regex skills to rearrange the vector so that all elements conform to the standard “firstname lastname”, preserving any titles (e.g., “Rev.”, “Dr.”, etc) or middle/second names."
   ]
  },
  {
   "cell_type": "markdown",
   "metadata": {},
   "source": [
    "We can see from the list that the ones that need to be reordered are 'Burns, C. Montgomery' and 'Simpson, Homer'. After rearranging it should be 'C. Montgomery Burns' and 'Homer, Simpson'.\n",
    "To complete this a new regular expression is defined that will use parenthesis to separate into 2 groups, the last name and the first name with the middle name (if any). A comma separator must be present after the first word (which is the last name), and this is used to identified the 2 cases that needs to be rearrange."
   ]
  },
  {
   "cell_type": "code",
   "execution_count": 4,
   "metadata": {
    "scrolled": true
   },
   "outputs": [],
   "source": [
    "regex=re.compile('([A-Za-z]+),\\s([A-Za-z]+\\.?\\s?[A-Za-z]*)')"
   ]
  },
  {
   "cell_type": "markdown",
   "metadata": {},
   "source": [
    "- __('[A-Za-z]+')__ = 1 or more lowercase characters in the range of [a-z] or uppercase characters in the range of [A-Z]. This first group is the last name.\n",
    "- __'\\s'__ = whitespace character.\n",
    "- __([A-Za-z]+\\.?\\s?[A-Za-z]*)__ = finds any name with optional middle name (with the optional dot and space)"
   ]
  },
  {
   "cell_type": "markdown",
   "metadata": {},
   "source": [
    "Now a list comprehension is used to apply the new regex to each element, and will only impact on the ones that meets the condition for the regex. Then the sub method is used to get the second group first (using '\\2') and then the first group (using '\\1') which is the last name. A list called task2_a is returned with the result.\n",
    "A dataframe 'df' will be created to store the names and will be shown at the end of task 2."
   ]
  },
  {
   "cell_type": "code",
   "execution_count": 5,
   "metadata": {},
   "outputs": [],
   "source": [
    "task2_a=[regex.sub(r'\\2, \\1', item) for item in task1]"
   ]
  },
  {
   "cell_type": "code",
   "execution_count": 6,
   "metadata": {
    "scrolled": true
   },
   "outputs": [
    {
     "data": {
      "text/plain": [
       "['Moe Szyslak',\n",
       " 'C. Montgomery, Burns',\n",
       " 'Rev. Timothy Lovejoy',\n",
       " 'Ned Flanders',\n",
       " 'Homer, Simpson',\n",
       " 'Dr. Julius Hibbert']"
      ]
     },
     "execution_count": 6,
     "metadata": {},
     "output_type": "execute_result"
    }
   ],
   "source": [
    "df=pd.DataFrame()\n",
    "df[\"Name\"]=(task2_a)\n",
    "task2_a"
   ]
  },
  {
   "cell_type": "markdown",
   "metadata": {},
   "source": [
    "    b. Construct a logical vector indicating whether a character has a title (i.e., Rev. and Dr.)."
   ]
  },
  {
   "cell_type": "markdown",
   "metadata": {},
   "source": [
    "First I create a new series based on pandas Series method, using previous list task2_a. After that, the 'str.contains' function is used and the or (\"|\") operator to determine if each string element matches either \"Rev.\" or \"Dr.\". Logical vector is shown in list task2_b_boolean and also stored in the dataframe df."
   ]
  },
  {
   "cell_type": "code",
   "execution_count": 7,
   "metadata": {},
   "outputs": [
    {
     "data": {
      "text/plain": [
       "[False, False, True, False, False, True]"
      ]
     },
     "execution_count": 7,
     "metadata": {},
     "output_type": "execute_result"
    }
   ],
   "source": [
    "task2_b = pd.Series(task2_a)\n",
    "task2_b_boolean=task2_b.str.contains('Rev.|Dr.')\n",
    "df[\"Rev. or Dr.\"]=task2_b_boolean\n",
    "list(task2_b_boolean)"
   ]
  },
  {
   "cell_type": "markdown",
   "metadata": {},
   "source": [
    "    c. Construct a logical vector indicating whether a character has a middle/second name."
   ]
  },
  {
   "cell_type": "markdown",
   "metadata": {},
   "source": [
    "I will define a regex re_spaces that will look for the spaces and then store the number of words for each character. Then, if the character does not contain Rev. or Dr. and a total of 3 or more words means it has a middle name. Similar logic, if the character contains Rev. or Dr. and a total of 4 or more words means it also has a middle name. Result is stored in logical vector middle_name, which is printed and stored as new column in the dataframe df."
   ]
  },
  {
   "cell_type": "code",
   "execution_count": 8,
   "metadata": {
    "scrolled": true
   },
   "outputs": [
    {
     "data": {
      "text/plain": [
       "[False, True, False, False, False, False]"
      ]
     },
     "execution_count": 8,
     "metadata": {},
     "output_type": "execute_result"
    }
   ],
   "source": [
    "re_spaces=re.compile(\"\\\\s\")\n",
    "middle_name=[]\n",
    "for i,value in enumerate(task2_b):\n",
    "    words=len(re.split(re_spaces,value))\n",
    "    if task2_b_boolean[i]==False and words >= 3:\n",
    "        #does not have Dr. or Rev. and have 3 or more words (at least 2 names + 1 last name)\n",
    "        middle_name.append(True)\n",
    "        continue\n",
    "    if task2_b_boolean[i]==True and words >= 4:\n",
    "        #does have Dr. or Rev. and have 4 or more words (Dr./Rev.+ at least 2 names + 1 last name)\n",
    "        middle_name.append(True)\n",
    "        continue\n",
    "    middle_name.append(False)\n",
    "df[\"Middle_Name\"]=middle_name    \n",
    "middle_name"
   ]
  },
  {
   "cell_type": "markdown",
   "metadata": {},
   "source": [
    "Now, the df is shown for better understanding of the data and the logical conditions applied to the names"
   ]
  },
  {
   "cell_type": "code",
   "execution_count": 9,
   "metadata": {},
   "outputs": [
    {
     "data": {
      "text/html": [
       "<div>\n",
       "<style scoped>\n",
       "    .dataframe tbody tr th:only-of-type {\n",
       "        vertical-align: middle;\n",
       "    }\n",
       "\n",
       "    .dataframe tbody tr th {\n",
       "        vertical-align: top;\n",
       "    }\n",
       "\n",
       "    .dataframe thead th {\n",
       "        text-align: right;\n",
       "    }\n",
       "</style>\n",
       "<table border=\"1\" class=\"dataframe\">\n",
       "  <thead>\n",
       "    <tr style=\"text-align: right;\">\n",
       "      <th></th>\n",
       "      <th>Name</th>\n",
       "      <th>Rev. or Dr.</th>\n",
       "      <th>Middle_Name</th>\n",
       "    </tr>\n",
       "  </thead>\n",
       "  <tbody>\n",
       "    <tr>\n",
       "      <th>0</th>\n",
       "      <td>Moe Szyslak</td>\n",
       "      <td>False</td>\n",
       "      <td>False</td>\n",
       "    </tr>\n",
       "    <tr>\n",
       "      <th>1</th>\n",
       "      <td>C. Montgomery, Burns</td>\n",
       "      <td>False</td>\n",
       "      <td>True</td>\n",
       "    </tr>\n",
       "    <tr>\n",
       "      <th>2</th>\n",
       "      <td>Rev. Timothy Lovejoy</td>\n",
       "      <td>True</td>\n",
       "      <td>False</td>\n",
       "    </tr>\n",
       "    <tr>\n",
       "      <th>3</th>\n",
       "      <td>Ned Flanders</td>\n",
       "      <td>False</td>\n",
       "      <td>False</td>\n",
       "    </tr>\n",
       "    <tr>\n",
       "      <th>4</th>\n",
       "      <td>Homer, Simpson</td>\n",
       "      <td>False</td>\n",
       "      <td>False</td>\n",
       "    </tr>\n",
       "    <tr>\n",
       "      <th>5</th>\n",
       "      <td>Dr. Julius Hibbert</td>\n",
       "      <td>True</td>\n",
       "      <td>False</td>\n",
       "    </tr>\n",
       "  </tbody>\n",
       "</table>\n",
       "</div>"
      ],
      "text/plain": [
       "                   Name  Rev. or Dr.  Middle_Name\n",
       "0           Moe Szyslak        False        False\n",
       "1  C. Montgomery, Burns        False         True\n",
       "2  Rev. Timothy Lovejoy         True        False\n",
       "3          Ned Flanders        False        False\n",
       "4        Homer, Simpson        False        False\n",
       "5    Dr. Julius Hibbert         True        False"
      ]
     },
     "execution_count": 9,
     "metadata": {},
     "output_type": "execute_result"
    }
   ],
   "source": [
    "df"
   ]
  },
  {
   "attachments": {
    "image.png": {
     "image/png": "[encoded data removed]"
    }
   },
   "cell_type": "markdown",
   "metadata": {},
   "source": [
    "### Task 3\n",
    "![image.png](attachment:image.png)"
   ]
  },
  {
   "cell_type": "markdown",
   "metadata": {},
   "source": [
    "First I confirm  that the regex provided fails, and this is because the default behavior of regular expressions is to be greedy, so with the '+' quantifier it tries to match between 1 and unlimited times, despite a smaller portion would have been sufficient. In this case it extracts the entire string instead of stopping at the first occurrence of the end tag '>'"
   ]
  },
  {
   "cell_type": "code",
   "execution_count": 10,
   "metadata": {},
   "outputs": [
    {
     "data": {
      "text/plain": [
       "['<title>+++BREAKING NEWS+++<title>']"
      ]
     },
     "execution_count": 10,
     "metadata": {},
     "output_type": "execute_result"
    }
   ],
   "source": [
    "text3=\"<title>+++BREAKING NEWS+++<title>\"\n",
    "re.findall(\"<.+>\",text3)"
   ]
  },
  {
   "cell_type": "markdown",
   "metadata": {},
   "source": [
    "To correct the expression, I will include a question mark '?' at the end of the pattern in order to use the concept of lazy matching, which means to take as little as possible. Then, the search method is used to retrieve only the first match."
   ]
  },
  {
   "cell_type": "code",
   "execution_count": 11,
   "metadata": {},
   "outputs": [
    {
     "data": {
      "text/plain": [
       "'<title>'"
      ]
     },
     "execution_count": 11,
     "metadata": {},
     "output_type": "execute_result"
    }
   ],
   "source": [
    "re.search('<.*?>', text3).group()"
   ]
  },
  {
   "cell_type": "markdown",
   "metadata": {},
   "source": [
    "### Task 4\n",
    "Consider the string “(5-3)^2=5^2-2*5*3+3^2” conforms to the binomial theorem. We would like to extract the\n",
    "formula in the string. To do so we write the regular expression “[^0-9=+*()]+”. Explain why this fails and correct the\n",
    "expression."
   ]
  },
  {
   "cell_type": "markdown",
   "metadata": {},
   "source": [
    "For this task, as done previously, first I confirm  that the regex provided fails. This is because with the hat sign '^' the expression is looking for 1 or more characters except the ones listed after it, so it only retrieves the ones that are not excluded, which are '-' and '^'."
   ]
  },
  {
   "cell_type": "code",
   "execution_count": 12,
   "metadata": {},
   "outputs": [
    {
     "data": {
      "text/plain": [
       "['-', '^', '^', '-', '^']"
      ]
     },
     "execution_count": 12,
     "metadata": {},
     "output_type": "execute_result"
    }
   ],
   "source": [
    "text4=\"(5-3)^2=5^2-2*5*3+3^2\"\n",
    "re.findall(\"[^0-9=+*()]+\",text4)"
   ]
  },
  {
   "cell_type": "markdown",
   "metadata": {},
   "source": [
    "To correct this, we include the bar to escape the special character '^' and match it literally, and also add the '-' so the expression will include 1 or more characters that matches the one inside the square brackets []."
   ]
  },
  {
   "cell_type": "code",
   "execution_count": 13,
   "metadata": {},
   "outputs": [
    {
     "data": {
      "text/plain": [
       "['(5-3)^2=5^2-2*5*3+3^2']"
      ]
     },
     "execution_count": 13,
     "metadata": {},
     "output_type": "execute_result"
    }
   ],
   "source": [
    "re.findall(\"[\\^0-9=+*()-]+\",text4)"
   ]
  }
 ],
 "metadata": {
  "kernelspec": {
   "display_name": "Python 3",
   "language": "python",
   "name": "python3"
  },
  "language_info": {
   "codemirror_mode": {
    "name": "ipython",
    "version": 3
   },
   "file_extension": ".py",
   "mimetype": "text/x-python",
   "name": "python",
   "nbconvert_exporter": "python",
   "pygments_lexer": "ipython3",
   "version": "3.7.3"
  }
 },
 "nbformat": 4,
 "nbformat_minor": 2
}
