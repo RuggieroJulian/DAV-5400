{
 "cells": [
  {
   "cell_type": "markdown",
   "metadata": {},
   "source": [
    "### Assignment 2 - Ruggiero Julian"
   ]
  },
  {
   "cell_type": "markdown",
   "metadata": {},
   "source": [
    "###### Below I translated each of the tasks instructions for week 2 assignment before each solution"
   ]
  },
  {
   "cell_type": "markdown",
   "metadata": {},
   "source": [
    "1. Read the file again and extract the seven attributes from each line of the file and create seven distinct lists comprised solely of the values you extracted for a given attribute. In other words, you should have lists of prices, maintenance costs, number of doors, etc."
   ]
  },
  {
   "cell_type": "code",
   "execution_count": 18,
   "metadata": {},
   "outputs": [
    {
     "name": "stdout",
     "output_type": "stream",
     "text": [
      "['med', 'small', 'big', 'big', 'med']\n"
     ]
    }
   ],
   "source": [
    "import csv\n",
    "with open(r\"C:\\Users\\julir\\Google Drive (jaruggie@mail.yu.edu)\\Analytics Programming\\Week 2\\Assignment\\cars-sample35.txt\") as csvfile:\n",
    "    readCSV = csv.reader(csvfile)\n",
    "    # UP TO THIS POINT IN THE CODE WAS PROVIDED BY THE ASSIGNMENT INSTRUCTIONS\n",
    "    '''Will create one list for each attribute below:\n",
    "       - Price\n",
    "       - Maintenance cost\n",
    "       - Number of doors\n",
    "       - Number of passengers\n",
    "       - Luggage capacity\n",
    "       - Safety rating\n",
    "       - Classification of vehicle''' \n",
    "    \n",
    "    price=[]\n",
    "    maintenance_cost=[]\n",
    "    number_of_doors=[]\n",
    "    number_of_passengers=[]\n",
    "    luggage_capacity=[]\n",
    "    safety_rating=[]\n",
    "    classification_of_vehicle=[]\n",
    "    \n",
    "    #iterate throw each CSV record to get its information\n",
    "    for row in readCSV:\n",
    "        #each record/list contains 8 elements and each element will be stored in the corresponding new list\n",
    "        price.append(row[0]) \n",
    "        maintenance_cost.append(row[1])\n",
    "        number_of_doors.append(row[2])\n",
    "        number_of_passengers.append(row[3])\n",
    "        luggage_capacity.append(row[4])\n",
    "        safety_rating.append(row[5])\n",
    "        classification_of_vehicle.append(row[6])\n",
    "    print(luggage_capacity[:5]) #chequing to make sure that the first 5 elements are: 'med', 'small', 'big', 'big', 'med'"
   ]
  },
  {
   "cell_type": "code",
   "execution_count": 19,
   "metadata": {},
   "outputs": [
    {
     "name": "stdout",
     "output_type": "stream",
     "text": [
      "35\n"
     ]
    }
   ],
   "source": [
    "# Before doing the next assignment I wanted to check that all lists have same length, just to confirm.\n",
    "if len(price) == len(maintenance_cost) == len(number_of_doors) == len(number_of_passengers) == len(luggage_capacity) == len(safety_rating) == len(classification_of_vehicle):\n",
    "    print(len(price))"
   ]
  },
  {
   "cell_type": "markdown",
   "metadata": {},
   "source": [
    "2. Your second task is to find the list index values of each automobile having a price rating of \"med\". Create a new list with your result.\n",
    "3. Your third task is to find the \"number of passengers\" value for each auto having a \"price\" value of \"med\". Create a new list to store your findings and be sure to print your results.\n",
    "4. Find the index value for each automobile having a price value of \"high\" and a maintenance value that is not \"low\". Create a new list to store your findings and be sure to print your results."
   ]
  },
  {
   "cell_type": "code",
   "execution_count": 20,
   "metadata": {},
   "outputs": [
    {
     "name": "stdout",
     "output_type": "stream",
     "text": [
      "[6, 16, 20, 23, 26, 29]\n",
      "['more', '2', '2', '2', '4', '2']\n",
      "[0, 1, 2, 27, 31]\n"
     ]
    }
   ],
   "source": [
    "# Since the assignments are related I will use only 1 for loop, to avoid creating more later, as all lists have same length\n",
    "\n",
    "task2 = [] #create empty list to store results of 2nd task\n",
    "task3 = [] #create empty list to store results of 3rd task\n",
    "task4 = [] #create empty list to store results of 4th task\n",
    "lenOfList=len(price) #store the number of elements in the price list (will be the same for all lists)\n",
    "\n",
    "for i in range(0,lenOfList): #iterate throw the list\n",
    "    if price[i] == 'med':\n",
    "        #if the price rating is \"med\", then store the index in the med_prices_index list\n",
    "        #and using that same index, locate the number of passengers for that car and add it to the other list\n",
    "        task2.append(i) \n",
    "        task3.append(number_of_passengers[i])\n",
    "    if (price[i] == 'high' and maintenance_cost[i] != 'low'): #Chequing that the car has a price value of \"high\" and maintenance value is not \"low\"\n",
    "        task4.append(i) #if meet conditions, add to new list\n",
    "print(task2) #printing results from 2nd task\n",
    "print(task3) #printing results from 3rd task\n",
    "print(task4) #printing results from 3rd task"
   ]
  },
  {
   "cell_type": "markdown",
   "metadata": {},
   "source": [
    "5. Find the index value for each auto having 2 doors and a luggage value of \"big\". Create a new list to store your findings and be sure to print your results."
   ]
  },
  {
   "cell_type": "code",
   "execution_count": 21,
   "metadata": {},
   "outputs": [
    {
     "data": {
      "text/plain": [
       "False"
      ]
     },
     "execution_count": 21,
     "metadata": {},
     "output_type": "execute_result"
    }
   ],
   "source": [
    "int in number_of_doors #chequing that number_of_doors lists does not contain any integer, so the value 2 is stored as a string"
   ]
  },
  {
   "cell_type": "code",
   "execution_count": null,
   "metadata": {},
   "outputs": [],
   "source": []
  },
  {
   "cell_type": "code",
   "execution_count": 22,
   "metadata": {},
   "outputs": [
    {
     "name": "stdout",
     "output_type": "stream",
     "text": [
      "[3, 12, 19, 23]\n"
     ]
    }
   ],
   "source": [
    "task5=[]\n",
    "for i in range(0,lenOfList):\n",
    "    if (number_of_doors[i] == '2' and luggage_capacity[i] == 'big'): #Chequing that the car has 2 doors and luggage_capacity is \"big\"\n",
    "        task5.append(i) #if meet conditions, add to new list\n",
    "print(task5)"
   ]
  },
  {
   "cell_type": "markdown",
   "metadata": {},
   "source": [
    "6. Create a new list containing the only the integer equivalents of the doors values. Keep in mind that the lists you have created thus far are composed solely of strings. If you find any values of '5more' in your list, convert them to a '5'. After converting the '5more' values to '5', convert all of the items in your list to their numeric equivalent and calculate the average number of doors across all 35 autos using whichever of Python's built in functions you require. Print your result."
   ]
  },
  {
   "cell_type": "code",
   "execution_count": 27,
   "metadata": {},
   "outputs": [],
   "source": [
    "task5=[]\n",
    "for i in range(0,lenOfList):\n",
    "    if (number_of_doors[i] == '5more'): #Chequing if \"5more\" values are present, then replace with '5'\n",
    "        number_of_doors[i] = '5' \n",
    "    number_of_doors[i] = int(number_of_doors[i]) #cast any string value in the list to int value"
   ]
  },
  {
   "cell_type": "code",
   "execution_count": 28,
   "metadata": {},
   "outputs": [
    {
     "name": "stdout",
     "output_type": "stream",
     "text": [
      "3.31\n"
     ]
    }
   ],
   "source": [
    "import statistics #importing statistics library to calculate average or mean\n",
    "mean = statistics.mean(number_of_doors) #built in function to calculate the mean\n",
    "print(round(mean,2)) #print the result, rounding to 2 decimal points."
   ]
  }
 ],
 "metadata": {
  "kernelspec": {
   "display_name": "Python 3",
   "language": "python",
   "name": "python3"
  },
  "language_info": {
   "codemirror_mode": {
    "name": "ipython",
    "version": 3
   },
   "file_extension": ".py",
   "mimetype": "text/x-python",
   "name": "python",
   "nbconvert_exporter": "python",
   "pygments_lexer": "ipython3",
   "version": "3.7.3"
  }
 },
 "nbformat": 4,
 "nbformat_minor": 2
}
