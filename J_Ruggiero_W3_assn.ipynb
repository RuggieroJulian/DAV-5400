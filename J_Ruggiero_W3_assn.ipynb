{
 "cells": [
  {
   "cell_type": "markdown",
   "metadata": {},
   "source": [
    "### Assignment 3 - Ruggiero Julian"
   ]
  },
  {
   "cell_type": "markdown",
   "metadata": {},
   "source": [
    "#### - Start by reading the cars-sample35.txt file and re-creating the seven distinct lists of automobile attributes"
   ]
  },
  {
   "cell_type": "markdown",
   "metadata": {},
   "source": [
    "For this first part I will take the previous code from Assignment 2 to re-create the seven distinct lists using one for loop to iterate throw the readCSV object that contains each row in the CSV file"
   ]
  },
  {
   "cell_type": "code",
   "execution_count": 22,
   "metadata": {},
   "outputs": [],
   "source": [
    "import csv\n",
    "with open(r\"C:\\Users\\julir\\Google Drive (jaruggie@mail.yu.edu)\\Analytics Programming\\Week 2\\Assignment\\cars-sample35.txt\") as csvfile:\n",
    "    readCSV = csv.reader(csvfile)\n",
    "    # UP TO THIS POINT IN THE CODE WAS PROVIDED BY THE ASSIGNMENT INSTRUCTIONS\n",
    "    '''Will create one list for each attribute below:\n",
    "       - Price\n",
    "       - Maintenance cost\n",
    "       - Number of doors\n",
    "       - Number of passengers\n",
    "       - Luggage capacity\n",
    "       - Safety rating\n",
    "       - Classification of vehicle''' \n",
    "    \n",
    "    #defining 7 empty lists\n",
    "    price=[]\n",
    "    maintenance_cost=[]\n",
    "    number_of_doors=[]\n",
    "    number_of_passengers=[]\n",
    "    luggage_capacity=[]\n",
    "    safety_rating=[]\n",
    "    classification_of_vehicle=[]\n",
    "    \n",
    "    #iterate throw each CSV record to get its information\n",
    "    for row in readCSV:\n",
    "        #each record/list contains 8 elements and each element will be stored in the corresponding new list\n",
    "        price.append(row[0]) \n",
    "        maintenance_cost.append(row[1])\n",
    "        number_of_doors.append(row[2])\n",
    "        number_of_passengers.append(row[3])\n",
    "        luggage_capacity.append(row[4])\n",
    "        safety_rating.append(row[5])\n",
    "        classification_of_vehicle.append(row[6])"
   ]
  },
  {
   "cell_type": "markdown",
   "metadata": {},
   "source": [
    "------------------------------------------------------------------------------------------------------------------------------\n",
    "#### 1) Your first task is to find the list index values of each automobile having a price rating of \"med\". However, you are required to do this using a list comprehension instead of a basic for or while loop. The list comprehension should create a new list containing your result. Be sure to print your results to the screen."
   ]
  },
  {
   "cell_type": "markdown",
   "metadata": {},
   "source": [
    "On the line below I create a list comprehension to loop throw the price's list using the range function (with the list's lenght) and store in a new med_list the index of those elements whose price rating is \"med\". Results are then printed."
   ]
  },
  {
   "cell_type": "code",
   "execution_count": 25,
   "metadata": {},
   "outputs": [
    {
     "name": "stdout",
     "output_type": "stream",
     "text": [
      "[6, 16, 20, 23, 26, 29]\n"
     ]
    }
   ],
   "source": [
    "med_list = [p for p in range(len(price)) if price[p] == 'med'] #list comprehension assigning the index value for the car which prices is \"med\"\n",
    "print(med_list)"
   ]
  },
  {
   "cell_type": "markdown",
   "metadata": {},
   "source": [
    "#### 2) Your second task is to find the \"number of passengers\" value for each auto having a \"price\" value of \"med\" using a list comprehension instead of a basic for or while loop. The list comprehension should create a new list containing your findings. Be sure to print your results to the screen."
   ]
  },
  {
   "cell_type": "markdown",
   "metadata": {},
   "source": [
    "For this second task I will iterate throw the price list with a list comprehension using the range function (with the list's lenght) and will check for elements with price value is \"med\". If true, then the new pass_list will store (from the number_of_passanger list) the number of passangers's value that corresponds to that car. Results are then printed."
   ]
  },
  {
   "cell_type": "code",
   "execution_count": 23,
   "metadata": {},
   "outputs": [
    {
     "name": "stdout",
     "output_type": "stream",
     "text": [
      "['more', '2', '2', '2', '4', '2']\n"
     ]
    }
   ],
   "source": [
    "pass_list = [number_of_passengers[p] for p in range(len(price)) if price[p] == 'med'] #list comprehension assigning the number of passengers for the car which prices is \"med\"\n",
    "print(pass_list)"
   ]
  },
  {
   "cell_type": "markdown",
   "metadata": {},
   "source": [
    "#### 3) Your third task is to find the index value for each automobile having a price value of \"high\" and a maintenance value that is not \"low\" using a list comprehension. The list comprehension should create a new list containing your findings. Be sure to print your results to the screen."
   ]
  },
  {
   "cell_type": "markdown",
   "metadata": {},
   "source": [
    "For this third task I will iterate again throw the price list with a list comprehension but will check for elements with price value is \"high\" and maintenance value is not \"low\". If both conditions are true, then the new task3_ist will store the index that corresponds to that car. Results are then printed."
   ]
  },
  {
   "cell_type": "code",
   "execution_count": 26,
   "metadata": {},
   "outputs": [
    {
     "name": "stdout",
     "output_type": "stream",
     "text": [
      "[0, 1, 2, 27, 31]\n"
     ]
    }
   ],
   "source": [
    "#list comprehension assigning the index value for the car which prices is \"high\" and maintenance_cost is not \"low\"\n",
    "task3_list = [p for p in range(len(price)) if (price[p] == 'high' and maintenance_cost[p] != \"low\")]\n",
    "print(task3_list)"
   ]
  },
  {
   "cell_type": "markdown",
   "metadata": {},
   "source": [
    "#### Nested List Comprehensions\n",
    "#### Consider the following list of lists: nlist = [ [1, 2, 3], [‘A’, ‘B’, ‘C’], [4, 5], [‘D’, ‘E’] ]\n",
    "\n",
    "#### 4) For the forth task apply your list comprehension to extract each individual element of the component lists contained within nlist and add them to a new list. Be sure to print your newly created list to the screen."
   ]
  },
  {
   "cell_type": "markdown",
   "metadata": {},
   "source": [
    "To approach this logic I followed the steps below:\n",
    "- Define the list \"nlist\" that contains a list of lists.\n",
    "- Create a new object \"result_list\" that will store the list resulting of a nested list comprehension that uses one loop to iterate throw each \"element\" in \"nlist\", then the second loop iterates throw each \"subelement\" inside the \"element\" that correspond to the first loop. This way, as an example the first element in the nlist is [1, 2, 3] which is iterated and each item is called \"element\", then the second loop iterates throw its items/subelements and adds them to the result_list.\n",
    "- result_list is printed with all individual elements inside."
   ]
  },
  {
   "cell_type": "code",
   "execution_count": 27,
   "metadata": {},
   "outputs": [
    {
     "data": {
      "text/plain": [
       "[1, 2, 3, 'A', 'B', 'C', 4, 5, 'D', 'E']"
      ]
     },
     "execution_count": 27,
     "metadata": {},
     "output_type": "execute_result"
    }
   ],
   "source": [
    "nlist = [ [1, 2, 3], ['A', 'B', 'C'], [4, 5], ['D', 'E'] ] #definition of the nlist\n",
    "result_list = [subelement for element in nlist for subelement in element] #nested list comprehention to iterate the items inside each element in the nlist\n",
    "result_list"
   ]
  },
  {
   "cell_type": "markdown",
   "metadata": {},
   "source": [
    "#### Write a Function That Converts a List to a Dict Object\n",
    "#### 5) Your fifth task is to create a user defined function that accepts as input one of the seven automobile attribute lists as well as an integer value and returns a Python dict object. Remember: a Python dict object is comprised of ‘key/value’ pairs. The integer value accepted as a parameter by your function will represent the exact number of items you are to use from the list for purposes of creating the new dict object.\n",
    "#### Be sure to check that the integer value passed into your function does not exceed the length of the list parameter!\n",
    "#### You would take the first x items from mylist to create the new dict object. The key values you assign to the elements of the dict object should all be comprised of a combination of the letter ‘A’ and the alphanumeric representation of the index value corresponding to the location of the item in the mylist object. So if you had 3 dict elements in total, the key values for those elements would be (‘A0’, ‘A1’, ‘A2’)"
   ]
  },
  {
   "cell_type": "markdown",
   "metadata": {},
   "source": [
    "For the logic below I will create a function called 'list_to_dict' which will receive the list to iterate and the quantity (the amount of key:value pair to retrieve in the dictionary).\n",
    "First will check that the integer value 'quantity' is not greater than the lenght of the list, otherwise the logic won't work as it exceeds the number of elements in the provided list.\n",
    "Second a list comprehension iterates throw the plist provided as a parameter and will return a dictionary of key:values where;\n",
    "Key: 'A'+str(index) => here index is the position of the iterator\n",
    "Value: plist[index] => takes the element located at the index position from the list and gets it as value.\n",
    "\n",
    "All the logic is inside a try catch block to check argument's data types"
   ]
  },
  {
   "cell_type": "code",
   "execution_count": 20,
   "metadata": {},
   "outputs": [],
   "source": [
    "def list_to_dict(plist=luggage_capacity, quantity=10):\n",
    "    \"\"\"This function wil take 2 parameters and creates a dictionary from a list: \n",
    "        - 'plist' which represents one list of the seven automobile\n",
    "        - 'quantity' which means the amount of elements required from that list to be placed in the dictionary\n",
    "        Resulting dictionary will be:\n",
    "        - Key will be letter 'A' and the alphanumeric representation of the index value corresponding to the location of the item\n",
    "        - Value will be the specific item at the index position from the list provided as parameter\"\"\"\n",
    "    try: #begin of the code that checks for some code error to handle it\n",
    "        if quantity > len(plist): #chequing that the integer value passed into your function does not exceed the length of the list parameter\n",
    "            return f\"Please check, the second parameter: {quantity}; can't exceed the lists lenght, which is {len(plist)}\"\n",
    "        \n",
    "        new_dict = {'A'+str(index):plist[index] for index in range(quantity)}\n",
    "\n",
    "        \"\"\"The line above iterates throw the list plist up to quantity and will return a pair of key:value elements where, \n",
    "        as explained in the docstring:\n",
    "            - Key will be letter 'A' and the alphanumeric representation of the index value corresponding to the location of the item\n",
    "            in this case will be 'A'+str(index)\n",
    "            - Value will be the specific item at the index position from the list provided as parameter\n",
    "            in this case will be plist[index]\"\"\"\n",
    "        return new_dict #new_dict dictionary is returned\n",
    "    except(TypeError): #type error manipulation in order to make sure that the first parameter is a list and the second one an integer.\n",
    "        return \"\"\"Check types of arguments provided: 1st should be a list, 2nd should be integer\"\"\"\n",
    "        \n"
   ]
  },
  {
   "cell_type": "code",
   "execution_count": 8,
   "metadata": {},
   "outputs": [],
   "source": [
    "# chequing the docstring\n",
    "list_to_dict?"
   ]
  },
  {
   "cell_type": "code",
   "execution_count": 9,
   "metadata": {},
   "outputs": [
    {
     "data": {
      "text/plain": [
       "'Check types of arguments provided: 1st should be a list, 2nd should be integer'"
      ]
     },
     "execution_count": 9,
     "metadata": {},
     "output_type": "execute_result"
    }
   ],
   "source": [
    "#Test case 1: check that the function can't take an integer as the first parameter\n",
    "list_to_dict(40)"
   ]
  },
  {
   "cell_type": "code",
   "execution_count": 10,
   "metadata": {},
   "outputs": [
    {
     "data": {
      "text/plain": [
       "'Check types of arguments provided: 1st should be a list, 2nd should be integer'"
      ]
     },
     "execution_count": 10,
     "metadata": {},
     "output_type": "execute_result"
    }
   ],
   "source": [
    "#Test case 2: check that the function can't take a list as the second argument\n",
    "list_to_dict(price,price)"
   ]
  },
  {
   "cell_type": "code",
   "execution_count": 12,
   "metadata": {},
   "outputs": [
    {
     "data": {
      "text/plain": [
       "\"Please check, the second parameter: 60; can't exceed the lists lenght, which is 35\""
      ]
     },
     "execution_count": 12,
     "metadata": {},
     "output_type": "execute_result"
    }
   ],
   "source": [
    "#Test case 3: checking that the function can't take an integer that exceeds the lenght of the list\n",
    "list_to_dict(price,60)"
   ]
  },
  {
   "cell_type": "code",
   "execution_count": 15,
   "metadata": {},
   "outputs": [
    {
     "data": {
      "text/plain": [
       "{}"
      ]
     },
     "execution_count": 15,
     "metadata": {},
     "output_type": "execute_result"
    }
   ],
   "source": [
    "#Test case 4: checking for 0 elements, returns an empty dictionaty\n",
    "list_to_dict(price,0)"
   ]
  },
  {
   "cell_type": "code",
   "execution_count": 18,
   "metadata": {},
   "outputs": [
    {
     "data": {
      "text/plain": [
       "{'A0': 'med',\n",
       " 'A1': 'small',\n",
       " 'A2': 'big',\n",
       " 'A3': 'big',\n",
       " 'A4': 'med',\n",
       " 'A5': 'small',\n",
       " 'A6': 'med',\n",
       " 'A7': 'big',\n",
       " 'A8': 'small',\n",
       " 'A9': 'med'}"
      ]
     },
     "execution_count": 18,
     "metadata": {},
     "output_type": "execute_result"
    }
   ],
   "source": [
    "#Test case 5: function called without arguments, so it will use the ones that are defined as default, which is the luggage_capacity list and integer 10\n",
    "list_to_dict()"
   ]
  },
  {
   "cell_type": "code",
   "execution_count": 60,
   "metadata": {},
   "outputs": [
    {
     "data": {
      "text/plain": [
       "{'A0': 'high',\n",
       " 'A1': 'high',\n",
       " 'A2': 'high',\n",
       " 'A3': 'high',\n",
       " 'A4': 'vhigh',\n",
       " 'A5': 'low',\n",
       " 'A6': 'med',\n",
       " 'A7': 'low',\n",
       " 'A8': 'vhigh',\n",
       " 'A9': 'vhigh',\n",
       " 'A10': 'low',\n",
       " 'A11': 'vhigh',\n",
       " 'A12': 'high',\n",
       " 'A13': 'low',\n",
       " 'A14': 'high',\n",
       " 'A15': 'vhigh',\n",
       " 'A16': 'med',\n",
       " 'A17': 'high',\n",
       " 'A18': 'low',\n",
       " 'A19': 'low',\n",
       " 'A20': 'med',\n",
       " 'A21': 'low',\n",
       " 'A22': 'vhigh',\n",
       " 'A23': 'med',\n",
       " 'A24': 'low',\n",
       " 'A25': 'vhigh',\n",
       " 'A26': 'med',\n",
       " 'A27': 'high',\n",
       " 'A28': 'low',\n",
       " 'A29': 'med',\n",
       " 'A30': 'high',\n",
       " 'A31': 'high',\n",
       " 'A32': 'low',\n",
       " 'A33': 'vhigh',\n",
       " 'A34': 'high'}"
      ]
     },
     "execution_count": 60,
     "metadata": {},
     "output_type": "execute_result"
    }
   ],
   "source": [
    "#Test case 6: checking for all 35 elements, returns a dictionaty with 35 elements from A0 to A34\n",
    "list_to_dict(price,35)"
   ]
  },
  {
   "cell_type": "markdown",
   "metadata": {},
   "source": [
    "#### Using Your New Function\n",
    "#### Now that you have your reusable user-defined function, use it to create two new dict objects containing the first seven elements of the ‘Price’ and ‘Luggage’ lists, respectively. Then, use these dict objects to tell us the price and luggage capacity of the auto identified by the ‘A4’ key value."
   ]
  },
  {
   "cell_type": "markdown",
   "metadata": {},
   "source": [
    "For this last task I will define 2 new dictionaries, containing the first 7 elements of the 'Price' and 'Luggage' lists. So to fill the 'first_7_price' dict the defined function list_to_dict is called passing the list 'price' and quantity=7. And to fill the 'first_7_luggage' dict the defined function list_to_dict is called again passing the list 'luggage_capacity' and quantity=7.\n",
    "\n",
    "Then the print built it function is called, and passed a formated string to display the information related to the price matching the 'A4' key, so accesing with first_7_price['A4'] and the luggage capacity related to the same key 'A4' is passed to the first_7_luggage dict to obtain the corresponding value and display to the user."
   ]
  },
  {
   "cell_type": "code",
   "execution_count": 71,
   "metadata": {},
   "outputs": [],
   "source": [
    "first_7_price = list_to_dict(price,7)\n",
    "first_7_luggage = list_to_dict(luggage_capacity,7)"
   ]
  },
  {
   "cell_type": "code",
   "execution_count": 72,
   "metadata": {},
   "outputs": [
    {
     "name": "stdout",
     "output_type": "stream",
     "text": [
      "The price of the auto identified by the 'A4' key is: vhigh and its luggage capacity is: med\n"
     ]
    }
   ],
   "source": [
    "print(f\"The price of the auto identified by the 'A4' key is: {first_7_price['A4']} and its luggage capacity is: {first_7_luggage['A4']}\")"
   ]
  }
 ],
 "metadata": {
  "kernelspec": {
   "display_name": "Python 3",
   "language": "python",
   "name": "python3"
  },
  "language_info": {
   "codemirror_mode": {
    "name": "ipython",
    "version": 3
   },
   "file_extension": ".py",
   "mimetype": "text/x-python",
   "name": "python",
   "nbconvert_exporter": "python",
   "pygments_lexer": "ipython3",
   "version": "3.7.3"
  }
 },
 "nbformat": 4,
 "nbformat_minor": 2
}
